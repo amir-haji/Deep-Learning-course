{
 "cells": [
  {
   "cell_type": "markdown",
   "id": "d70c2f99",
   "metadata": {
    "id": "ruy8SoZMxJLi",
    "papermill": {
     "duration": 0.011103,
     "end_time": "2025-05-27T18:54:54.409560",
     "exception": false,
     "start_time": "2025-05-27T18:54:54.398457",
     "status": "completed"
    },
    "tags": []
   },
   "source": [
    "<img src='sharif_logo.png' alt=\"SUT logo\" width=150 height=150 align=left class=\"saturate\" >\n",
    "\n",
    "<br>\n",
    "<font face=\"Times New Roman\">\n",
    "<div dir=ltr align=center>\n",
    "<font color=0F5298 size=7>\n",
    " Deep Learning <br>\n",
    "<font color=2565AE size=5>\n",
    "Computer Engineering Department - Spring 2025  <br>\n",
    "<font color=3C99D size=5>\n",
    "          Homework 3: Practical - GPT2 from Scratch! <br>\n",
    "<font color=696880 size=4>\n",
    "            Designer: Shaygan Adim\n",
    "    \n",
    "    "
   ]
  },
  {
   "cell_type": "markdown",
   "id": "434e36a1",
   "metadata": {
    "id": "61iujr7UxJLj",
    "papermill": {
     "duration": 0.009168,
     "end_time": "2025-05-27T18:54:54.428537",
     "exception": false,
     "start_time": "2025-05-27T18:54:54.419369",
     "status": "completed"
    },
    "tags": []
   },
   "source": [
    "**Name**:  AmirHossein Haji Mohammad Rezaei\n",
    "  \n",
    "**Student Code**: 99109252"
   ]
  },
  {
   "cell_type": "markdown",
   "id": "da146a11",
   "metadata": {
    "id": "ewkF_sRJxJLk",
    "papermill": {
     "duration": 0.008993,
     "end_time": "2025-05-27T18:54:54.447000",
     "exception": false,
     "start_time": "2025-05-27T18:54:54.438007",
     "status": "completed"
    },
    "tags": []
   },
   "source": [
    "# Overview\n",
    "\n",
    "In this project, you will implement a scaled-down version of OpenAI's GPT-2 architecture from scratch using PyTorch. You'll train this model on the Snappfood comments with sentiment labels. The goal is to create a generative language model that can produce synthetic Persian comments with controllable sentiment (positive or negative)."
   ]
  },
  {
   "cell_type": "markdown",
   "id": "f5de6786",
   "metadata": {
    "id": "U_jsvjcKxJLk",
    "papermill": {
     "duration": 0.009413,
     "end_time": "2025-05-27T18:54:54.465636",
     "exception": false,
     "start_time": "2025-05-27T18:54:54.456223",
     "status": "completed"
    },
    "tags": []
   },
   "source": [
    "# Learning Objectives\n",
    "\n",
    "* Understanding and implementing transformer-based language model architectures  \n",
    "* Learning how to control text generation using special tokens  \n",
    "* Visualizing and analyzing training progress  "
   ]
  },
  {
   "cell_type": "markdown",
   "id": "12bbe7fe",
   "metadata": {
    "id": "mTpL3bTRxJLk",
    "papermill": {
     "duration": 0.009064,
     "end_time": "2025-05-27T18:54:54.484469",
     "exception": false,
     "start_time": "2025-05-27T18:54:54.475405",
     "status": "completed"
    },
    "tags": []
   },
   "source": [
    "# Dataset\n",
    "\n",
    "You'll work with a Persian dataset containing Snappfood comments:  \n",
    "\n",
    "* The dataset texts are normalized (No need for any normalizations)\n",
    "* Each comment has a sentiment label (1 for positive, 0 for negative)\n",
    "* The dataset contains text with variations in length and style"
   ]
  },
  {
   "cell_type": "markdown",
   "id": "1354af02",
   "metadata": {
    "id": "07wWDLBoxJLk",
    "papermill": {
     "duration": 0.009088,
     "end_time": "2025-05-27T18:54:54.502935",
     "exception": false,
     "start_time": "2025-05-27T18:54:54.493847",
     "status": "completed"
    },
    "tags": []
   },
   "source": [
    "# Tokenizer and model\n",
    "\n",
    "You should use one of the sota open-source LLM tokenizers. I strongly recommend using Llama 3.3 tokenizer or Gemma-2 tokenizer as they're better than the others in Persian language. (There is no need to implement a tokenizer yourself.)\n",
    "\n",
    "Your model should have the exact srtructure of GPT-2:  \n",
    "  \n",
    "<img src=\"GPT-2.png\" alt=\"\" width=\"600\" height=\"800\">\n",
    "  \n",
    "For the model to be able to smoothly be trained, you should use the config below:\n",
    "\n",
    "* **Embedding Dimension**: 192 (reduced from 768 in original GPT-2)\n",
    "* **Layers**: 3 transformer blocks (reduced from 12 in original GPT-2)\n",
    "* **Attention Heads**: 3 (reduced from 12 in original GPT-2)\n",
    "* **Context Window**: 128 tokens (reduced from 1024 in original GPT-2)\n",
    "\n",
    "Moreover, unlike the original Transformer paper that used fixed sinusoidal position encodings, GPT-2 (and your implementation) should use learnable position embeddings:\n",
    "1. You should create an embedding table of size [n_positions, n_embd] where:\n",
    "\n",
    "    * n_positions is the maximum sequence length (128 in our model)\n",
    "    * n_embd is the embedding dimension (192 in our model)\n",
    "2. For each position in the sequence (0 to sequence_length-1), we look up the corresponding embedding vector.\n",
    "\n",
    "3. These position embeddings are added to the token embeddings before being passed through the transformer blocks."
   ]
  },
  {
   "cell_type": "markdown",
   "id": "b3af58f1",
   "metadata": {
    "id": "njtLc8SExJLk",
    "papermill": {
     "duration": 0.008981,
     "end_time": "2025-05-27T18:54:54.521244",
     "exception": false,
     "start_time": "2025-05-27T18:54:54.512263",
     "status": "completed"
    },
    "tags": []
   },
   "source": [
    "# Some notes:\n",
    "\n",
    "* Be aware that you will be questioned about your solution to this assignment in-person. Thus, build a solid understanding through out solving this assignment.\n",
    "* Using ChatGPT and other LLMs are allowed but you should be able to explain every line of your code completely.\n",
    "* You need GPU for this assignment. Use can use Colab or Kaggle for free.\n",
    "* I highly recommend using the exact same structure and instructions that is provided for you in the notebook but minor changes will be tolerated.\n",
    "* Read the whole notebook once before coding. It will give you a broad vision about what you should do on the whole.\n",
    "* Instructions provided for you in TODO sections ARE NOT the only things that you should do in those parts. They're just some important bullet points that your code should have.\n",
    "* The final results (Inference section) should have the minimum quality of the samples already generated in the notebook."
   ]
  },
  {
   "cell_type": "markdown",
   "id": "329e3ccd",
   "metadata": {
    "id": "BPIGMAYJWg0Q",
    "papermill": {
     "duration": 0.009031,
     "end_time": "2025-05-27T18:54:54.539509",
     "exception": false,
     "start_time": "2025-05-27T18:54:54.530478",
     "status": "completed"
    },
    "tags": []
   },
   "source": [
    "# Importing"
   ]
  },
  {
   "cell_type": "code",
   "execution_count": 1,
   "id": "54f3a3bf",
   "metadata": {
    "execution": {
     "iopub.execute_input": "2025-05-27T18:54:54.559214Z",
     "iopub.status.busy": "2025-05-27T18:54:54.558926Z",
     "iopub.status.idle": "2025-05-27T18:55:09.894593Z",
     "shell.execute_reply": "2025-05-27T18:55:09.893746Z"
    },
    "id": "mwwI_YyGWg0T",
    "papermill": {
     "duration": 15.347306,
     "end_time": "2025-05-27T18:55:09.896093",
     "exception": false,
     "start_time": "2025-05-27T18:54:54.548787",
     "status": "completed"
    },
    "tags": []
   },
   "outputs": [],
   "source": [
    "# Data loading and manipulation\n",
    "import kagglehub\n",
    "import pandas as pd\n",
    "import numpy as np\n",
    "from sklearn.model_selection import train_test_split\n",
    "\n",
    "# Tokenization utilities\n",
    "from transformers import AutoTokenizer\n",
    "from huggingface_hub import login\n",
    "\n",
    "# PyTorch\n",
    "import torch\n",
    "import torch.nn as nn\n",
    "import torch.nn.functional as F\n",
    "from torch.utils.data import Dataset, DataLoader\n",
    "\n",
    "# Visualization tool\n",
    "import matplotlib.pyplot as plt\n",
    "\n",
    "# Runtime utilities\n",
    "import math\n",
    "import time\n",
    "from tqdm import tqdm\n",
    "\n",
    "# Typing tool\n",
    "from typing import Dict, Optional, Any"
   ]
  },
  {
   "cell_type": "markdown",
   "id": "70e3300c",
   "metadata": {
    "id": "xsdC1ePHWg0U",
    "papermill": {
     "duration": 0.009252,
     "end_time": "2025-05-27T18:55:09.915498",
     "exception": false,
     "start_time": "2025-05-27T18:55:09.906246",
     "status": "completed"
    },
    "tags": []
   },
   "source": [
    "# Downloading and loading the data\n",
    "\n",
    "In this section we read and load the data from [here](https://www.kaggle.com/datasets/mohammad1ziyar/cleaned-snappfood-persian-sentiment-analysis).\n",
    "\n",
    "You can also see some information about the data in the next cell. In the end, we only want the label and cleaned columns."
   ]
  },
  {
   "cell_type": "code",
   "execution_count": 2,
   "id": "6b0990ea",
   "metadata": {
    "execution": {
     "iopub.execute_input": "2025-05-27T18:55:09.935007Z",
     "iopub.status.busy": "2025-05-27T18:55:09.934609Z",
     "iopub.status.idle": "2025-05-27T18:55:10.662504Z",
     "shell.execute_reply": "2025-05-27T18:55:10.661889Z"
    },
    "id": "CDZZp3qk3lFz",
    "outputId": "8276c8a1-2efb-4fbc-c8e9-cbc38d038445",
    "papermill": {
     "duration": 0.739156,
     "end_time": "2025-05-27T18:55:10.663910",
     "exception": false,
     "start_time": "2025-05-27T18:55:09.924754",
     "status": "completed"
    },
    "tags": []
   },
   "outputs": [],
   "source": [
    "from kagglehub import KaggleDatasetAdapter\n",
    "raw_corpus = kagglehub.dataset_load(\n",
    "    KaggleDatasetAdapter.PANDAS,\n",
    "    \"mohammad1ziyar/cleaned-snappfood-persian-sentiment-analysis\",\n",
    "    \"cleaned_snappfood.csv\",\n",
    ")"
   ]
  },
  {
   "cell_type": "code",
   "execution_count": 3,
   "id": "e7cbc0f2",
   "metadata": {
    "execution": {
     "iopub.execute_input": "2025-05-27T18:55:10.684790Z",
     "iopub.status.busy": "2025-05-27T18:55:10.684571Z",
     "iopub.status.idle": "2025-05-27T18:55:11.090913Z",
     "shell.execute_reply": "2025-05-27T18:55:11.090348Z"
    },
    "id": "xkchxFa1Wg0U",
    "outputId": "00d71e4f-f279-4104-e970-e07d82e513a1",
    "papermill": {
     "duration": 0.417863,
     "end_time": "2025-05-27T18:55:11.092380",
     "exception": false,
     "start_time": "2025-05-27T18:55:10.674517",
     "status": "completed"
    },
    "tags": []
   },
   "outputs": [
    {
     "name": "stdout",
     "output_type": "stream",
     "text": [
      "Path to dataset files: /kaggle/input/cleaned-snappfood-persian-sentiment-analysis\n"
     ]
    }
   ],
   "source": [
    "# TODO: Download the dataset using kagglehub\n",
    "\n",
    "path = '/kaggle/input/cleaned-snappfood-persian-sentiment-analysis'\n",
    "\n",
    "print(\"Path to dataset files:\", path)\n",
    "\n",
    "raw_corpus = pd.read_csv(path + \"/cleaned_snappfood.csv\")"
   ]
  },
  {
   "cell_type": "code",
   "execution_count": 4,
   "id": "b5ce0fd6",
   "metadata": {
    "execution": {
     "iopub.execute_input": "2025-05-27T18:55:11.112631Z",
     "iopub.status.busy": "2025-05-27T18:55:11.112420Z",
     "iopub.status.idle": "2025-05-27T18:55:11.155370Z",
     "shell.execute_reply": "2025-05-27T18:55:11.154743Z"
    },
    "id": "Vg0fAjmAWg0V",
    "outputId": "efb26943-d9db-4947-81c1-eba1b34262f4",
    "papermill": {
     "duration": 0.054058,
     "end_time": "2025-05-27T18:55:11.156350",
     "exception": false,
     "start_time": "2025-05-27T18:55:11.102292",
     "status": "completed"
    },
    "tags": []
   },
   "outputs": [
    {
     "name": "stdout",
     "output_type": "stream",
     "text": [
      "<class 'pandas.core.frame.DataFrame'>\n",
      "RangeIndex: 65973 entries, 0 to 65972\n",
      "Data columns (total 4 columns):\n",
      " #   Column           Non-Null Count  Dtype \n",
      "---  ------           --------------  ----- \n",
      " 0   comment          65973 non-null  object\n",
      " 1   label            65973 non-null  int64 \n",
      " 2   comment_length   65973 non-null  int64 \n",
      " 3   comment_cleaned  65973 non-null  object\n",
      "dtypes: int64(2), object(2)\n",
      "memory usage: 2.0+ MB\n"
     ]
    },
    {
     "data": {
      "text/html": [
       "<div>\n",
       "<style scoped>\n",
       "    .dataframe tbody tr th:only-of-type {\n",
       "        vertical-align: middle;\n",
       "    }\n",
       "\n",
       "    .dataframe tbody tr th {\n",
       "        vertical-align: top;\n",
       "    }\n",
       "\n",
       "    .dataframe thead th {\n",
       "        text-align: right;\n",
       "    }\n",
       "</style>\n",
       "<table border=\"1\" class=\"dataframe\">\n",
       "  <thead>\n",
       "    <tr style=\"text-align: right;\">\n",
       "      <th></th>\n",
       "      <th>comment</th>\n",
       "      <th>label</th>\n",
       "      <th>comment_length</th>\n",
       "      <th>comment_cleaned</th>\n",
       "    </tr>\n",
       "  </thead>\n",
       "  <tbody>\n",
       "    <tr>\n",
       "      <th>0</th>\n",
       "      <td>واقعا حیف وقت که بنویسم سرویس دهیتون شده افتضاح</td>\n",
       "      <td>0</td>\n",
       "      <td>47</td>\n",
       "      <td>واقعا حیف وقت که بنویسم سرویس دهیتون شده افتضاح</td>\n",
       "    </tr>\n",
       "    <tr>\n",
       "      <th>1</th>\n",
       "      <td>قرار بود ۱ ساعته برسه ولی نیم ساعت زودتر از مو...</td>\n",
       "      <td>1</td>\n",
       "      <td>132</td>\n",
       "      <td>قرار بود  ساعته برسه ولی نیم ساعت زودتر از موق...</td>\n",
       "    </tr>\n",
       "    <tr>\n",
       "      <th>2</th>\n",
       "      <td>قیمت این مدل اصلا با کیفیتش سازگاری نداره، فقط...</td>\n",
       "      <td>0</td>\n",
       "      <td>89</td>\n",
       "      <td>قیمت این مدل اصلا با کیفیتش سازگاری نداره فقط ...</td>\n",
       "    </tr>\n",
       "    <tr>\n",
       "      <th>3</th>\n",
       "      <td>عالی بود همه چه درست و به اندازه و کیفیت خوب، ...</td>\n",
       "      <td>1</td>\n",
       "      <td>99</td>\n",
       "      <td>عالی بود همه چه درست و به اندازه و کیفیت خوب ا...</td>\n",
       "    </tr>\n",
       "    <tr>\n",
       "      <th>4</th>\n",
       "      <td>شیرینی وانیلی فقط یک مدل بود.</td>\n",
       "      <td>1</td>\n",
       "      <td>29</td>\n",
       "      <td>شیرینی وانیلی فقط یک مدل بود</td>\n",
       "    </tr>\n",
       "  </tbody>\n",
       "</table>\n",
       "</div>"
      ],
      "text/plain": [
       "                                             comment  label  comment_length  \\\n",
       "0    واقعا حیف وقت که بنویسم سرویس دهیتون شده افتضاح      0              47   \n",
       "1  قرار بود ۱ ساعته برسه ولی نیم ساعت زودتر از مو...      1             132   \n",
       "2  قیمت این مدل اصلا با کیفیتش سازگاری نداره، فقط...      0              89   \n",
       "3  عالی بود همه چه درست و به اندازه و کیفیت خوب، ...      1              99   \n",
       "4                      شیرینی وانیلی فقط یک مدل بود.      1              29   \n",
       "\n",
       "                                     comment_cleaned  \n",
       "0    واقعا حیف وقت که بنویسم سرویس دهیتون شده افتضاح  \n",
       "1  قرار بود  ساعته برسه ولی نیم ساعت زودتر از موق...  \n",
       "2  قیمت این مدل اصلا با کیفیتش سازگاری نداره فقط ...  \n",
       "3  عالی بود همه چه درست و به اندازه و کیفیت خوب ا...  \n",
       "4                       شیرینی وانیلی فقط یک مدل بود  "
      ]
     },
     "execution_count": 4,
     "metadata": {},
     "output_type": "execute_result"
    }
   ],
   "source": [
    "raw_corpus.info()\n",
    "raw_corpus.head()"
   ]
  },
  {
   "cell_type": "code",
   "execution_count": 5,
   "id": "c38f5863",
   "metadata": {
    "execution": {
     "iopub.execute_input": "2025-05-27T18:55:11.176593Z",
     "iopub.status.busy": "2025-05-27T18:55:11.176394Z",
     "iopub.status.idle": "2025-05-27T18:55:11.183063Z",
     "shell.execute_reply": "2025-05-27T18:55:11.182446Z"
    },
    "id": "NVV8fkElWg0W",
    "papermill": {
     "duration": 0.017915,
     "end_time": "2025-05-27T18:55:11.184144",
     "exception": false,
     "start_time": "2025-05-27T18:55:11.166229",
     "status": "completed"
    },
    "tags": []
   },
   "outputs": [],
   "source": [
    "raw_corpus = raw_corpus[[\"comment_cleaned\", \"label\"]]"
   ]
  },
  {
   "cell_type": "markdown",
   "id": "1597003e",
   "metadata": {
    "id": "hs2WbUaSWg0W",
    "papermill": {
     "duration": 0.009506,
     "end_time": "2025-05-27T18:55:11.204792",
     "exception": false,
     "start_time": "2025-05-27T18:55:11.195286",
     "status": "completed"
    },
    "tags": []
   },
   "source": [
    "# Downloading and loading the tokenizer (5 Points)\n",
    "\n",
    "In this section you need to load your tokenizer from hugging face. I recommend [this](https://huggingface.co/meta-llama/Llama-3.3-70B-Instruct) or [this](https://huggingface.co/google/gemma-2-27b-it).\n",
    "Keep in mind that you might need to login first using your hugging face access token and also sign an agreement thing in model's page to be able to access the model and it's tokenizer."
   ]
  },
  {
   "cell_type": "code",
   "execution_count": null,
   "id": "d2638a69",
   "metadata": {
    "execution": {
     "iopub.execute_input": "2025-05-27T18:55:11.224601Z",
     "iopub.status.busy": "2025-05-27T18:55:11.224418Z",
     "iopub.status.idle": "2025-05-27T18:55:11.344444Z",
     "shell.execute_reply": "2025-05-27T18:55:11.343894Z"
    },
    "id": "uiWFykRF9wWn",
    "outputId": "a80123b1-c829-4b71-950f-782aacb5db1e",
    "papermill": {
     "duration": 0.131326,
     "end_time": "2025-05-27T18:55:11.345665",
     "exception": false,
     "start_time": "2025-05-27T18:55:11.214339",
     "status": "completed"
    },
    "tags": []
   },
   "outputs": [],
   "source": [
    "login(token=\"\")"
   ]
  },
  {
   "cell_type": "code",
   "execution_count": 7,
   "id": "a273e0e5",
   "metadata": {
    "execution": {
     "iopub.execute_input": "2025-05-27T18:55:11.410118Z",
     "iopub.status.busy": "2025-05-27T18:55:11.409533Z",
     "iopub.status.idle": "2025-05-27T18:55:13.697583Z",
     "shell.execute_reply": "2025-05-27T18:55:13.697000Z"
    },
    "id": "U4d2KgUJWg0W",
    "papermill": {
     "duration": 2.299764,
     "end_time": "2025-05-27T18:55:13.698898",
     "exception": false,
     "start_time": "2025-05-27T18:55:11.399134",
     "status": "completed"
    },
    "tags": []
   },
   "outputs": [
    {
     "data": {
      "application/vnd.jupyter.widget-view+json": {
       "model_id": "d37f725d2ecb44f598a7c48b61360e5f",
       "version_major": 2,
       "version_minor": 0
      },
      "text/plain": [
       "tokenizer_config.json:   0%|          | 0.00/47.0k [00:00<?, ?B/s]"
      ]
     },
     "metadata": {},
     "output_type": "display_data"
    },
    {
     "data": {
      "application/vnd.jupyter.widget-view+json": {
       "model_id": "135c1688c4d146d9ae0bd1d4e80877ce",
       "version_major": 2,
       "version_minor": 0
      },
      "text/plain": [
       "tokenizer.model:   0%|          | 0.00/4.24M [00:00<?, ?B/s]"
      ]
     },
     "metadata": {},
     "output_type": "display_data"
    },
    {
     "data": {
      "application/vnd.jupyter.widget-view+json": {
       "model_id": "32e0721903974790b3b7a5a35fd80620",
       "version_major": 2,
       "version_minor": 0
      },
      "text/plain": [
       "tokenizer.json:   0%|          | 0.00/17.5M [00:00<?, ?B/s]"
      ]
     },
     "metadata": {},
     "output_type": "display_data"
    },
    {
     "data": {
      "application/vnd.jupyter.widget-view+json": {
       "model_id": "556251a60b754dfd807123c3df4a9174",
       "version_major": 2,
       "version_minor": 0
      },
      "text/plain": [
       "special_tokens_map.json:   0%|          | 0.00/636 [00:00<?, ?B/s]"
      ]
     },
     "metadata": {},
     "output_type": "display_data"
    }
   ],
   "source": [
    "# TODO: Set up authentication (if needed) and initialize a tokenizer\n",
    "#  Use the login() function to authenticate with your Hugging Face token (if needed)\n",
    "#  Initialize a tokenizer using the AutoTokenizer class\n",
    "\n",
    "tokenizer = AutoTokenizer.from_pretrained('google/gemma-2-27b-it')"
   ]
  },
  {
   "cell_type": "markdown",
   "id": "94af8d14",
   "metadata": {
    "id": "RF1jKUvBxJLm",
    "papermill": {
     "duration": 0.010181,
     "end_time": "2025-05-27T18:55:13.719623",
     "exception": false,
     "start_time": "2025-05-27T18:55:13.709442",
     "status": "completed"
    },
    "tags": []
   },
   "source": [
    "In the cell below, add two special tokens to the vocabulary of the tokenizer indicating positivity or negativity of a comment. We will add these tokens manually as the first token of each comment so model will understand the difference between positive and negative comments."
   ]
  },
  {
   "cell_type": "code",
   "execution_count": 8,
   "id": "c2dd7cc7",
   "metadata": {
    "execution": {
     "iopub.execute_input": "2025-05-27T18:55:13.740512Z",
     "iopub.status.busy": "2025-05-27T18:55:13.740307Z",
     "iopub.status.idle": "2025-05-27T18:55:13.745423Z",
     "shell.execute_reply": "2025-05-27T18:55:13.744714Z"
    },
    "id": "xEGzba_kWg0X",
    "outputId": "8da7a9b4-3b55-4170-f4d0-8d27edcbb9aa",
    "papermill": {
     "duration": 0.01687,
     "end_time": "2025-05-27T18:55:13.746528",
     "exception": false,
     "start_time": "2025-05-27T18:55:13.729658",
     "status": "completed"
    },
    "tags": []
   },
   "outputs": [
    {
     "data": {
      "text/plain": [
       "2"
      ]
     },
     "execution_count": 8,
     "metadata": {},
     "output_type": "execute_result"
    }
   ],
   "source": [
    "# TODO: Add custom special tokens to the tokenizer\n",
    "\n",
    "# 1. Create a dictionary named 'special_tokens' with a key 'additional_special_tokens' that contains a list of two special tokens for positivity and negativity\n",
    "# 2. Add these tokens to the vocabulary\n",
    "\n",
    "# These special tokens will be used to tell the model what sentiment we're expecting during training and inference.\n",
    "\n",
    "special_tokens = {'additional_special_tokens': ['<POS>', '<NEG>']}\n",
    "tokenizer.add_special_tokens(special_tokens)"
   ]
  },
  {
   "cell_type": "markdown",
   "id": "ef02afe8",
   "metadata": {
    "id": "2Pz_f5L-Wg0X",
    "papermill": {
     "duration": 0.009808,
     "end_time": "2025-05-27T18:55:13.766302",
     "exception": false,
     "start_time": "2025-05-27T18:55:13.756494",
     "status": "completed"
    },
    "tags": []
   },
   "source": [
    "## Dataset and Dataloader (10 Points)"
   ]
  },
  {
   "cell_type": "markdown",
   "id": "31f9c172",
   "metadata": {
    "id": "aOy2HpRdxJLn",
    "papermill": {
     "duration": 0.009801,
     "end_time": "2025-05-27T18:55:13.786135",
     "exception": false,
     "start_time": "2025-05-27T18:55:13.776334",
     "status": "completed"
    },
    "tags": []
   },
   "source": [
    "Create a custom Dataset class for the data"
   ]
  },
  {
   "cell_type": "code",
   "execution_count": 9,
   "id": "76c2488c",
   "metadata": {
    "execution": {
     "iopub.execute_input": "2025-05-27T18:55:13.807464Z",
     "iopub.status.busy": "2025-05-27T18:55:13.807276Z",
     "iopub.status.idle": "2025-05-27T18:55:13.812847Z",
     "shell.execute_reply": "2025-05-27T18:55:13.812302Z"
    },
    "id": "RvXgNmXNWg0X",
    "papermill": {
     "duration": 0.017314,
     "end_time": "2025-05-27T18:55:13.813816",
     "exception": false,
     "start_time": "2025-05-27T18:55:13.796502",
     "status": "completed"
    },
    "tags": []
   },
   "outputs": [],
   "source": [
    "class CommentDataset(Dataset):\n",
    "    def __init__(self, dataframe, tokenizer, max_length=128):\n",
    "        self.tokenizer = tokenizer\n",
    "        # self.tokenizer.pad_token = self.tokenizer.bos_token\n",
    "        self.comments = dataframe['comment_cleaned'].tolist()\n",
    "        self.labels = dataframe['label'].tolist()\n",
    "        self.max_length = max_length\n",
    "\n",
    "    def __len__(self) -> int:\n",
    "        return len(self.comments)\n",
    "\n",
    "    def __getitem__(self, idx: int) -> dict:\n",
    "        # TODO: Process a single item from the dataset\n",
    "        # This method should:\n",
    "        # 1. Get the appropriate label and comment at the given index\n",
    "        # 2. Create a prefix based on the sentiment\n",
    "        # 3. Tokenize the text\n",
    "\n",
    "        label = self.labels[idx]\n",
    "        sentiment = '<POS>' if label == 1 else '<NEG>'\n",
    "        comment = sentiment + self.comments[idx]\n",
    "\n",
    "        encoded_batch = tokenizer(\n",
    "            comment,\n",
    "            max_length = self.max_length,\n",
    "            padding=\"max_length\",\n",
    "            truncation=True,\n",
    "            return_tensors=\"pt\"\n",
    "        )\n",
    "\n",
    "        input_ids = encoded_batch['input_ids'].squeeze(0)\n",
    "        attention_mask = encoded_batch['attention_mask']\n",
    "        labels = input_ids.clone()\n",
    "\n",
    "        return {\n",
    "            'input_ids': input_ids,\n",
    "            'attention_mask': attention_mask,\n",
    "            'labels': labels\n",
    "        }"
   ]
  },
  {
   "cell_type": "markdown",
   "id": "ca6f4278",
   "metadata": {
    "id": "m3sya4xuxJLn",
    "papermill": {
     "duration": 0.009959,
     "end_time": "2025-05-27T18:55:13.833855",
     "exception": false,
     "start_time": "2025-05-27T18:55:13.823896",
     "status": "completed"
    },
    "tags": []
   },
   "source": [
    "Create train and validation datasets and dataloaders and also split the data"
   ]
  },
  {
   "cell_type": "code",
   "execution_count": 10,
   "id": "b27820c4",
   "metadata": {
    "execution": {
     "iopub.execute_input": "2025-05-27T18:55:13.854865Z",
     "iopub.status.busy": "2025-05-27T18:55:13.854691Z",
     "iopub.status.idle": "2025-05-27T18:55:13.869008Z",
     "shell.execute_reply": "2025-05-27T18:55:13.868344Z"
    },
    "id": "oEKDOw_sWg0X",
    "papermill": {
     "duration": 0.026199,
     "end_time": "2025-05-27T18:55:13.870057",
     "exception": false,
     "start_time": "2025-05-27T18:55:13.843858",
     "status": "completed"
    },
    "tags": []
   },
   "outputs": [],
   "source": [
    "# TODO: Prepare the training and validation datasets and dataloaders\n",
    "#\n",
    "# 1. Split the raw_corpus dataframe into training and validation sets with a suitable ratio\n",
    "# 2. Create dataset instances using the CommentDataset class:\n",
    "# 3. Create DataLoader instances\n",
    "\n",
    "train_df, val_df = train_test_split(raw_corpus, test_size=0.2, random_state=42)\n",
    "\n",
    "train_dataset = CommentDataset(train_df, tokenizer)\n",
    "val_dataset = CommentDataset(val_df, tokenizer)\n",
    "\n",
    "train_loader = DataLoader(train_dataset, batch_size=5, shuffle=True)\n",
    "val_loader = DataLoader(val_dataset, batch_size=5, shuffle=False)"
   ]
  },
  {
   "cell_type": "markdown",
   "id": "8ceca043",
   "metadata": {
    "id": "fhn8d4ceWg0Y",
    "papermill": {
     "duration": 0.009918,
     "end_time": "2025-05-27T18:55:13.889948",
     "exception": false,
     "start_time": "2025-05-27T18:55:13.880030",
     "status": "completed"
    },
    "tags": []
   },
   "source": [
    "## Model implementation (35 Points)"
   ]
  },
  {
   "cell_type": "markdown",
   "id": "4f518c26",
   "metadata": {
    "id": "U4xS3u7rxJLn",
    "papermill": {
     "duration": 0.009745,
     "end_time": "2025-05-27T18:55:13.909749",
     "exception": false,
     "start_time": "2025-05-27T18:55:13.900004",
     "status": "completed"
    },
    "tags": []
   },
   "source": [
    "In this section you should implement the model architecture completely from scratch. No pre-defined torch or other libraries tools are allowed. (Even for the attention mechanism)"
   ]
  },
  {
   "cell_type": "code",
   "execution_count": 11,
   "id": "642623a1",
   "metadata": {
    "execution": {
     "iopub.execute_input": "2025-05-27T18:55:13.930330Z",
     "iopub.status.busy": "2025-05-27T18:55:13.930139Z",
     "iopub.status.idle": "2025-05-27T18:55:13.934726Z",
     "shell.execute_reply": "2025-05-27T18:55:13.934253Z"
    },
    "id": "145IO1TdWg0Y",
    "papermill": {
     "duration": 0.016156,
     "end_time": "2025-05-27T18:55:13.935713",
     "exception": false,
     "start_time": "2025-05-27T18:55:13.919557",
     "status": "completed"
    },
    "tags": []
   },
   "outputs": [],
   "source": [
    "class GPT2Config:\n",
    "    def __init__(\n",
    "        self,\n",
    "        vocab_size,\n",
    "        n_positions,\n",
    "        n_embd,\n",
    "        n_layer,\n",
    "        n_head,\n",
    "        n_inner=None,\n",
    "        activation_function=\"gelu\",\n",
    "        resid_pdrop=0.1,\n",
    "        embd_pdrop=0.1,\n",
    "        attn_pdrop=0.1,\n",
    "        layer_norm_epsilon=1e-5,\n",
    "        initializer_range=0.02,\n",
    "        bos_token_id=None,\n",
    "        eos_token_id=None,\n",
    "        pad_token_id=None\n",
    "    ):\n",
    "        self.vocab_size = vocab_size\n",
    "        self.n_positions = n_positions\n",
    "        self.n_embd = n_embd\n",
    "        self.n_layer = n_layer\n",
    "        self.n_head = n_head\n",
    "        self.n_inner = 4 * n_embd if n_inner is None else n_inner\n",
    "        self.activation_function = activation_function\n",
    "        self.resid_pdrop = resid_pdrop\n",
    "        self.embd_pdrop = embd_pdrop\n",
    "        self.attn_pdrop = attn_pdrop\n",
    "        self.layer_norm_epsilon = layer_norm_epsilon\n",
    "        self.initializer_range = initializer_range\n",
    "        self.bos_token_id = bos_token_id\n",
    "        self.eos_token_id = eos_token_id\n",
    "        self.pad_token_id = pad_token_id\n",
    "\n"
   ]
  },
  {
   "cell_type": "code",
   "execution_count": 12,
   "id": "c7f6c976",
   "metadata": {
    "execution": {
     "iopub.execute_input": "2025-05-27T18:55:13.956378Z",
     "iopub.status.busy": "2025-05-27T18:55:13.956197Z",
     "iopub.status.idle": "2025-05-27T18:55:13.964798Z",
     "shell.execute_reply": "2025-05-27T18:55:13.964333Z"
    },
    "id": "3ipPrEapWg0Y",
    "papermill": {
     "duration": 0.019927,
     "end_time": "2025-05-27T18:55:13.965673",
     "exception": false,
     "start_time": "2025-05-27T18:55:13.945746",
     "status": "completed"
    },
    "tags": []
   },
   "outputs": [],
   "source": [
    "class CausalSelfAttention(nn.Module):\n",
    "    def __init__(self, config):\n",
    "        super().__init__()\n",
    "        self.n_head = config.n_head\n",
    "        self.n_embd = config.n_embd\n",
    "        self.dropout = config.attn_pdrop\n",
    "\n",
    "        self.head_dim = self.n_embd // self.n_head\n",
    "\n",
    "        # TODO: Initialize the query, key, value projection layer\n",
    "        # Create a single linear layer (c_attn) that projects the input embeddings to query, key, and value vectors\n",
    "        # The output dimension should be 3 * config.n_embd\n",
    "        self.c_attn = nn.Linear(self.n_embd, 3*self.n_embd)\n",
    "\n",
    "        # TODO: Initialize the output projection layer\n",
    "        # Create a linear layer (c_proj) that projects the attention output back to the embedding dimension\n",
    "        self.c_proj = nn.Linear(self.n_embd, self.n_embd)\n",
    "\n",
    "        self.attn_dropout = nn.Dropout(config.attn_pdrop)\n",
    "        self.resid_dropout = nn.Dropout(config.resid_pdrop)\n",
    "\n",
    "        # TODO: Create the causal attention mask\n",
    "        # Register a buffer named \"mask\" with shape (config.n_positions, config.n_positions)\n",
    "        mask = torch.tril(torch.ones(config.n_positions, config.n_positions)).unsqueeze(0).unsqueeze(0)\n",
    "        self.register_buffer('mask', mask)\n",
    "\n",
    "    def forward(self, x: torch.Tensor) -> torch.Tensor:\n",
    "        B, T, C = x.size()  # batch size, sequence length, embedding dimensionality\n",
    "\n",
    "        # TODO: Implement the multi-head attention mechanism\n",
    "        # 1. Project input x to query, key, and value using self.c_attn\n",
    "        qkv = self.c_attn(x) # B, T, 3 * C\n",
    "        qkv = qkv.reshape((B, T, 3, self.n_head, self.head_dim)).permute(2, 0, 3, 1, 4) # 3, B, N, T, H\n",
    "        q, k, v = qkv[0], qkv[1], qkv[2] # each: B, N, T, H\n",
    "\n",
    "        # 2. Compute attention scores:\n",
    "        attn_scores = q @ k.transpose(-2, -1) / (self.head_dim ** 0.5) # B, N, T, T\n",
    "        attn_scores = attn_scores.masked_fill(self.mask[:, :, :T, :T] == 0, float('-inf')) # B, N, T, T\n",
    "        attn_weights = torch.softmax(attn_scores, dim=-1) # B, N, T, T\n",
    "        attn_weights = self.attn_dropout(attn_weights) # B, N, T, T\n",
    "\n",
    "        # 3. Apply attention weights to values\n",
    "        attn_outputs = attn_weights @ v # B, N, T, H\n",
    "        # 4. Apply the output projection and residual dropout\n",
    "        attn_outputs = attn_outputs.transpose(1, 2).reshape(B, T, C) # B, T, C\n",
    "        y = self.c_proj(attn_outputs)\n",
    "        y = self.resid_dropout(y)\n",
    "        return y"
   ]
  },
  {
   "cell_type": "code",
   "execution_count": 13,
   "id": "b15337e2",
   "metadata": {
    "execution": {
     "iopub.execute_input": "2025-05-27T18:55:13.986320Z",
     "iopub.status.busy": "2025-05-27T18:55:13.986122Z",
     "iopub.status.idle": "2025-05-27T18:55:13.990332Z",
     "shell.execute_reply": "2025-05-27T18:55:13.989668Z"
    },
    "id": "M7YfYPW2Wg0Y",
    "papermill": {
     "duration": 0.015794,
     "end_time": "2025-05-27T18:55:13.991431",
     "exception": false,
     "start_time": "2025-05-27T18:55:13.975637",
     "status": "completed"
    },
    "tags": []
   },
   "outputs": [],
   "source": [
    "class MLP(nn.Module):\n",
    "    def __init__(self, config):\n",
    "        super().__init__()\n",
    "        self.c_fc = nn.Linear(config.n_embd, config.n_inner)\n",
    "        self.c_proj = nn.Linear(config.n_inner, config.n_embd)\n",
    "        self.dropout = nn.Dropout(config.resid_pdrop)\n",
    "        self.gelu = nn.GELU()\n",
    "\n",
    "    def forward(self, x: torch.Tensor) -> torch.Tensor:\n",
    "        # TODO: Implement the feed-forward network forward pass\n",
    "        y = self.c_proj(self.gelu(self.c_fc(x)))\n",
    "        z = self.dropout(y)\n",
    "        return z"
   ]
  },
  {
   "cell_type": "code",
   "execution_count": 14,
   "id": "b54e4b7b",
   "metadata": {
    "execution": {
     "iopub.execute_input": "2025-05-27T18:55:14.012336Z",
     "iopub.status.busy": "2025-05-27T18:55:14.011950Z",
     "iopub.status.idle": "2025-05-27T18:55:14.016725Z",
     "shell.execute_reply": "2025-05-27T18:55:14.016048Z"
    },
    "id": "VPEgMD4zWg0Z",
    "papermill": {
     "duration": 0.016427,
     "end_time": "2025-05-27T18:55:14.017740",
     "exception": false,
     "start_time": "2025-05-27T18:55:14.001313",
     "status": "completed"
    },
    "tags": []
   },
   "outputs": [],
   "source": [
    "class Block(nn.Module):\n",
    "    def __init__(self, config):\n",
    "        super().__init__()\n",
    "        # TODO: Initialize the components of a transformer block\n",
    "        self.norm1 = nn.LayerNorm(config.n_embd, eps=config.layer_norm_epsilon)\n",
    "        self.norm2 = nn.LayerNorm(config.n_embd, eps=config.layer_norm_epsilon)\n",
    "\n",
    "        self.attention = CausalSelfAttention(config)\n",
    "        self.mlp = MLP(config)\n",
    "\n",
    "    def forward(self, x: torch.Tensor) -> torch.Tensor:\n",
    "        # TODO: Implement the transformer block forward pass with residual connections\n",
    "        x = x + self.attention(self.norm1(x))\n",
    "        x = x + self.mlp(self.norm2(x))\n",
    "        return x"
   ]
  },
  {
   "cell_type": "code",
   "execution_count": 15,
   "id": "80129a4c",
   "metadata": {
    "execution": {
     "iopub.execute_input": "2025-05-27T18:55:14.038870Z",
     "iopub.status.busy": "2025-05-27T18:55:14.038685Z",
     "iopub.status.idle": "2025-05-27T18:55:14.054839Z",
     "shell.execute_reply": "2025-05-27T18:55:14.054318Z"
    },
    "id": "uwEBuKSwWg0Z",
    "papermill": {
     "duration": 0.027825,
     "end_time": "2025-05-27T18:55:14.055764",
     "exception": false,
     "start_time": "2025-05-27T18:55:14.027939",
     "status": "completed"
    },
    "tags": []
   },
   "outputs": [],
   "source": [
    "class GPT2(nn.Module):\n",
    "    def __init__(self, config):\n",
    "        super().__init__()\n",
    "        self.config = config\n",
    "        self.transformer = nn.ModuleDict({\n",
    "            'wte': nn.Embedding(config.vocab_size, config.n_embd),\n",
    "            'wpe': nn.Embedding(config.n_positions, config.n_embd),\n",
    "            'drop': nn.Dropout(config.embd_pdrop),\n",
    "            'h': nn.ModuleList([Block(config) for _ in range(config.n_layer)]),\n",
    "            'ln_f': nn.LayerNorm(config.n_embd, eps=config.layer_norm_epsilon)\n",
    "        })\n",
    "\n",
    "        self.lm_head = nn.Linear(config.n_embd, config.vocab_size, bias=False)\n",
    "        self.transformer['wte'].weight = self.lm_head.weight\n",
    "\n",
    "        self.apply(self._init_weights)\n",
    "\n",
    "    def _init_weights(self, module):\n",
    "        # TODO: Implement the weight initialization function\n",
    "        # 1. For Linear and Embedding layers:\n",
    "        #    - Initialize weights from a normal distribution with mean=0.0 and\n",
    "        #      std=self.config.initializer_range\n",
    "        #    - For Linear layers with bias, initialize the bias to zero\n",
    "        # 2. For LayerNorm layers:\n",
    "        #    - Initialize bias to zero\n",
    "        #    - Initialize weight to ones\n",
    "\n",
    "        if isinstance(module, nn.Linear):\n",
    "          nn.init.normal_(module.weight, mean=0, std=self.config.initializer_range)\n",
    "          if module.bias is not None:\n",
    "            nn.init.zeros_(module.bias)\n",
    "        elif isinstance(module, nn.LayerNorm):\n",
    "          nn.init.zeros_(module.bias)\n",
    "          nn.init.ones_(module.weight)\n",
    "        elif isinstance(module, nn.Embedding):\n",
    "          nn.init.normal_(module.weight, mean=0, std=self.config.initializer_range)\n",
    "\n",
    "\n",
    "    def forward(self, input_ids: torch.Tensor, attention_mask: Optional[torch.Tensor] = None,\n",
    "                labels: Optional[torch.Tensor] = None) -> Dict[str, torch.Tensor]:\n",
    "        # TODO: Implement the forward pass\n",
    "        #\n",
    "        # 1. Create position indices\n",
    "        # 2. Compute embeddings\n",
    "        # 3. Process the input through transformer blocks\n",
    "        # 4. Apply final layer normalization\n",
    "        # 5. Compute logits using the language model head\n",
    "        # 6. Return a dictionary with 'logits' and 'loss' (if calculated)\n",
    "        B, T = input_ids.shape\n",
    "\n",
    "        position_ids = torch.arange(0, T, dtype=torch.long, device=input_ids.device).unsqueeze(0).expand(B, T)\n",
    "\n",
    "        token_emb = self.transformer['wte'](input_ids)\n",
    "        position_emb = self.transformer['wpe'](position_ids)\n",
    "        emb = self.transformer['drop'](token_emb + position_emb)\n",
    "\n",
    "        for block in self.transformer['h']:\n",
    "          emb = block(emb)\n",
    "\n",
    "        emb = self.transformer['ln_f'](emb)\n",
    "        logits = self.lm_head(emb) # B, T, V\n",
    "\n",
    "        loss=None\n",
    "        if labels is not None:\n",
    "          target_ids = labels[:, 1:].reshape(-1) # B*(T-1)\n",
    "          target_logits = logits[:, :-1, :].reshape((-1, logits.shape[-1])) # B*(T-1), V\n",
    "          # loss = F.cross_entropy(target_logits, target_ids)\n",
    "          loss_fn = nn.CrossEntropyLoss(ignore_index=self.config.pad_token_id)\n",
    "          loss = loss_fn(target_logits, target_ids)\n",
    "          \n",
    "        return {'logits': logits, 'loss': loss}\n",
    "\n",
    "    \n",
    "    def generate(self, input_ids: torch.Tensor, max_length: int,\n",
    "                temperature: float = 1.0, top_k: int = 0, top_p: float = 0.9) -> torch.Tensor:\n",
    "        # TODO: Implement text generation with various decoding strategies\n",
    "        # This method should generate text auto-regressively using the trained model\n",
    "        # with temperature, top-k, and nucleus (top-p) sampling techniques.\n",
    "        #\n",
    "        # 1. Set the model to evaluation mode\n",
    "        # 2. Loop to generate 'max_length' new tokens:\n",
    "        #    a. Run the forward pass to get logits for the current sequence\n",
    "        #    b. Extract logits for the last token and apply temperature scaling        #\n",
    "        #    c. Apply top-k sampling if top_k > 0:\n",
    "        #    d. Apply nucleus (top-p) sampling if top_p < 1.0:\n",
    "        # 3. Return the complete generated sequence\n",
    "\n",
    "        self.eval()\n",
    "\n",
    "        with torch.no_grad():\n",
    "          for _ in range(max_length):\n",
    "            # print(input_ids)\n",
    "            # print('******')\n",
    "            # ids = input_ids[:, -self.config.n_positions:] # B, T\n",
    "            outputs = self.forward(input_ids) # 1, T, C\n",
    "            logits = outputs['logits'][:, -1, :] / temperature # 1, C\n",
    "\n",
    "            if top_k > 1:\n",
    "              remove_indices = logits < torch.topk(logits, top_k)[0][:, -1, None]\n",
    "              logits[remove_indices] = float('-inf')\n",
    "\n",
    "            if top_p < 1.0:\n",
    "              sorted_logits, sorted_indices = torch.sort(logits, descending=True)\n",
    "              probs_cumsum = torch.cumsum(torch.softmax(sorted_logits, dim=-1), dim=-1)\n",
    "\n",
    "              indices_to_remove = probs_cumsum > top_p\n",
    "              indices_to_remove[:, 1:] = indices_to_remove[:, :-1].clone()\n",
    "              indices_to_remove[:, 0] = 0\n",
    "\n",
    "              sorted_logits[indices_to_remove] = float('-inf')\n",
    "              logits = torch.gather(sorted_logits, 1, sorted_indices.argsort(-1))\n",
    "\n",
    "            pred_token = torch.multinomial(torch.softmax(logits, dim=-1), 1) # 1, 1\n",
    "            input_ids = torch.cat((input_ids, pred_token), dim=1) # 1, T+1\n",
    "\n",
    "        self.train()\n",
    "        return input_ids"
   ]
  },
  {
   "cell_type": "code",
   "execution_count": 16,
   "id": "635d388c",
   "metadata": {
    "execution": {
     "iopub.execute_input": "2025-05-27T18:55:14.077303Z",
     "iopub.status.busy": "2025-05-27T18:55:14.076674Z",
     "iopub.status.idle": "2025-05-27T18:55:15.838621Z",
     "shell.execute_reply": "2025-05-27T18:55:15.837854Z"
    },
    "id": "1dJSYwP222fG",
    "outputId": "624ee89a-5d24-4822-af0c-7dffe17c5719",
    "papermill": {
     "duration": 1.773649,
     "end_time": "2025-05-27T18:55:15.839726",
     "exception": false,
     "start_time": "2025-05-27T18:55:14.066077",
     "status": "completed"
    },
    "tags": []
   },
   "outputs": [
    {
     "data": {
      "text/plain": [
       "GPT2(\n",
       "  (transformer): ModuleDict(\n",
       "    (wte): Embedding(256002, 192)\n",
       "    (wpe): Embedding(128, 192)\n",
       "    (drop): Dropout(p=0.1, inplace=False)\n",
       "    (h): ModuleList(\n",
       "      (0-2): 3 x Block(\n",
       "        (norm1): LayerNorm((192,), eps=1e-05, elementwise_affine=True)\n",
       "        (norm2): LayerNorm((192,), eps=1e-05, elementwise_affine=True)\n",
       "        (attention): CausalSelfAttention(\n",
       "          (c_attn): Linear(in_features=192, out_features=576, bias=True)\n",
       "          (c_proj): Linear(in_features=192, out_features=192, bias=True)\n",
       "          (attn_dropout): Dropout(p=0.1, inplace=False)\n",
       "          (resid_dropout): Dropout(p=0.1, inplace=False)\n",
       "        )\n",
       "        (mlp): MLP(\n",
       "          (c_fc): Linear(in_features=192, out_features=768, bias=True)\n",
       "          (c_proj): Linear(in_features=768, out_features=192, bias=True)\n",
       "          (dropout): Dropout(p=0.1, inplace=False)\n",
       "          (gelu): GELU(approximate='none')\n",
       "        )\n",
       "      )\n",
       "    )\n",
       "    (ln_f): LayerNorm((192,), eps=1e-05, elementwise_affine=True)\n",
       "  )\n",
       "  (lm_head): Linear(in_features=192, out_features=256002, bias=False)\n",
       ")"
      ]
     },
     "execution_count": 16,
     "metadata": {},
     "output_type": "execute_result"
    }
   ],
   "source": [
    "config = GPT2Config(\n",
    "    vocab_size=len(tokenizer),\n",
    "    n_positions=128,\n",
    "    n_embd=192,\n",
    "    n_layer=3,\n",
    "    n_head=3,\n",
    "    bos_token_id=tokenizer.bos_token_id,\n",
    "    eos_token_id=tokenizer.eos_token_id,\n",
    "    pad_token_id=tokenizer.pad_token_id\n",
    ")\n",
    "\n",
    "device = torch.device('cuda' if torch.cuda.is_available() else 'cpu')\n",
    "\n",
    "model = GPT2(config)\n",
    "model.to(device)\n",
    "# model.load_state_dict(torch.load('/content/model.pt'))"
   ]
  },
  {
   "cell_type": "markdown",
   "id": "0e285937",
   "metadata": {
    "id": "O3SlvokpWg0Z",
    "papermill": {
     "duration": 0.009883,
     "end_time": "2025-05-27T18:55:15.860512",
     "exception": false,
     "start_time": "2025-05-27T18:55:15.850629",
     "status": "completed"
    },
    "tags": []
   },
   "source": [
    "## Train and evaluation (25 Points)"
   ]
  },
  {
   "cell_type": "markdown",
   "id": "c7d54420",
   "metadata": {
    "id": "KGlVVwv2xJLo",
    "papermill": {
     "duration": 0.018305,
     "end_time": "2025-05-27T18:55:15.891296",
     "exception": false,
     "start_time": "2025-05-27T18:55:15.872991",
     "status": "completed"
    },
    "tags": []
   },
   "source": [
    "Now you should implement the train and evaluation functions."
   ]
  },
  {
   "cell_type": "code",
   "execution_count": 17,
   "id": "8d9a254c",
   "metadata": {
    "execution": {
     "iopub.execute_input": "2025-05-27T18:55:15.927479Z",
     "iopub.status.busy": "2025-05-27T18:55:15.927092Z",
     "iopub.status.idle": "2025-05-27T18:55:15.939049Z",
     "shell.execute_reply": "2025-05-27T18:55:15.938332Z"
    },
    "id": "ICMNy90uWg0Z",
    "papermill": {
     "duration": 0.031341,
     "end_time": "2025-05-27T18:55:15.940402",
     "exception": false,
     "start_time": "2025-05-27T18:55:15.909061",
     "status": "completed"
    },
    "tags": []
   },
   "outputs": [],
   "source": [
    "def train_epoch(model: nn.Module, data_loader: DataLoader, optimizer: torch.optim.Optimizer,\n",
    "               scheduler, device: torch.device, log_interval: int) -> tuple:\n",
    "    # TODO: Implement the training loop for a single epoch\n",
    "\n",
    "    total_loss = 0.0\n",
    "    step_nums = []\n",
    "    step_losses = []\n",
    "\n",
    "    model.train()\n",
    "    with tqdm(enumerate(data_loader), total=len(data_loader)) as pbar:\n",
    "      for step, batch in pbar:\n",
    "        batch = {k: v.to(device) for k, v in batch.items()}\n",
    "        outputs = model(**batch)\n",
    "\n",
    "        loss = outputs['loss']\n",
    "\n",
    "        optimizer.zero_grad()\n",
    "        loss.backward()\n",
    "        optimizer.step()\n",
    "        if scheduler is not None:\n",
    "          scheduler.step()\n",
    "\n",
    "        total_loss += loss.item()\n",
    "        if step % log_interval == 0:\n",
    "          step_nums.append(step)\n",
    "          step_losses.append(loss.item())\n",
    "\n",
    "\n",
    "    return total_loss / len(data_loader), step_nums, step_losses\n",
    "\n",
    "def evaluate(model: nn.Module, data_loader: DataLoader,\n",
    "            device: torch.device, log_interval: int) -> tuple:\n",
    "    # TODO: Implement the evaluation loop\n",
    "    total_loss = 0.0\n",
    "    step_nums = []\n",
    "    step_losses = []\n",
    "\n",
    "    model.eval()\n",
    "    with tqdm(enumerate(data_loader), total=len(data_loader)) as pbar:\n",
    "      for step, batch in pbar:\n",
    "        batch = {k: v.to(device) for k, v in batch.items()}\n",
    "        outputs = model(**batch)\n",
    "\n",
    "        loss = outputs['loss']\n",
    "\n",
    "        total_loss += loss.item()\n",
    "        if step % log_interval == 0:\n",
    "          step_nums.append(step)\n",
    "          step_losses.append(loss.item())\n",
    "    return total_loss / len(data_loader), step_nums, step_losses"
   ]
  },
  {
   "cell_type": "markdown",
   "id": "9b753b4b",
   "metadata": {
    "id": "2oB_U8pNxJLp",
    "papermill": {
     "duration": 0.014956,
     "end_time": "2025-05-27T18:55:15.973679",
     "exception": false,
     "start_time": "2025-05-27T18:55:15.958723",
     "status": "completed"
    },
    "tags": []
   },
   "source": [
    "Now train the model for 3 to 5 epochs. It's recommended to use a suitable learning rate scheduler (For example, cosine). Also save training and validation loss periodically."
   ]
  },
  {
   "cell_type": "code",
   "execution_count": 18,
   "id": "ab1dbfb9",
   "metadata": {
    "execution": {
     "iopub.execute_input": "2025-05-27T18:55:16.009121Z",
     "iopub.status.busy": "2025-05-27T18:55:16.008353Z",
     "iopub.status.idle": "2025-05-27T21:00:51.570746Z",
     "shell.execute_reply": "2025-05-27T21:00:51.569882Z"
    },
    "id": "ATyPSWYWWg0Z",
    "outputId": "0e256fd8-bce6-40d9-ac37-f002c4add367",
    "papermill": {
     "duration": 7535.576708,
     "end_time": "2025-05-27T21:00:51.572716",
     "exception": false,
     "start_time": "2025-05-27T18:55:15.996008",
     "status": "completed"
    },
    "tags": []
   },
   "outputs": [
    {
     "name": "stdout",
     "output_type": "stream",
     "text": [
      "\n",
      "Epoch 1/5\n"
     ]
    },
    {
     "name": "stderr",
     "output_type": "stream",
     "text": [
      "100%|██████████| 10556/10556 [23:26<00:00,  7.50it/s]\n",
      "100%|██████████| 2639/2639 [01:37<00:00, 27.10it/s]\n"
     ]
    },
    {
     "name": "stdout",
     "output_type": "stream",
     "text": [
      "Epoch 1 - Train Loss: 4.7267, Val Loss: 3.8156\n",
      "\n",
      "Epoch 2/5\n"
     ]
    },
    {
     "name": "stderr",
     "output_type": "stream",
     "text": [
      "100%|██████████| 10556/10556 [23:29<00:00,  7.49it/s]\n",
      "100%|██████████| 2639/2639 [01:37<00:00, 27.05it/s]\n"
     ]
    },
    {
     "name": "stdout",
     "output_type": "stream",
     "text": [
      "Epoch 2 - Train Loss: 3.6739, Val Loss: 3.4910\n",
      "\n",
      "Epoch 3/5\n"
     ]
    },
    {
     "name": "stderr",
     "output_type": "stream",
     "text": [
      "100%|██████████| 10556/10556 [23:28<00:00,  7.49it/s]\n",
      "100%|██████████| 2639/2639 [01:37<00:00, 27.04it/s]\n"
     ]
    },
    {
     "name": "stdout",
     "output_type": "stream",
     "text": [
      "Epoch 3 - Train Loss: 3.4405, Val Loss: 3.3296\n",
      "\n",
      "Epoch 4/5\n"
     ]
    },
    {
     "name": "stderr",
     "output_type": "stream",
     "text": [
      "100%|██████████| 10556/10556 [23:30<00:00,  7.48it/s]\n",
      "100%|██████████| 2639/2639 [01:37<00:00, 26.98it/s]\n"
     ]
    },
    {
     "name": "stdout",
     "output_type": "stream",
     "text": [
      "Epoch 4 - Train Loss: 3.3059, Val Loss: 3.2287\n",
      "\n",
      "Epoch 5/5\n"
     ]
    },
    {
     "name": "stderr",
     "output_type": "stream",
     "text": [
      "100%|██████████| 10556/10556 [23:28<00:00,  7.49it/s]\n",
      "100%|██████████| 2639/2639 [01:37<00:00, 26.96it/s]\n"
     ]
    },
    {
     "name": "stdout",
     "output_type": "stream",
     "text": [
      "Epoch 5 - Train Loss: 3.2109, Val Loss: 3.1562\n"
     ]
    }
   ],
   "source": [
    "# TODO: Set up and run the training loop\n",
    "\n",
    "# Implement the main training loop:\n",
    "#    For each epoch:\n",
    "#       - Call train_epoch to train for one epoch and get losses and step information\n",
    "#       - Store the average epoch loss in epoch_train_losses\n",
    "#       - Update step tracking, adjusting step numbers for the current epoch\n",
    "#       - Call evaluate to validate the model and get validation losses\n",
    "#       - Store the average validation loss in epoch_val_losses\n",
    "#       - Update validation step tracking\n",
    "#       - Print the training and validation losses for the epoch\n",
    "\n",
    "from torch.optim import Adam\n",
    "from torch.optim.lr_scheduler import CosineAnnealingLR\n",
    "\n",
    "epochs = 5\n",
    "\n",
    "optimizer = Adam(model.parameters(), lr=1e-4)\n",
    "total_steps = len(train_loader) * epochs\n",
    "scheduler = CosineAnnealingLR(optimizer, T_max=epochs)\n",
    "\n",
    "all_epochs = []\n",
    "epoch_train_losses = []\n",
    "epoch_val_losses = []\n",
    "all_train_step_losses = []\n",
    "all_train_step_nums = []\n",
    "all_val_step_losses = []\n",
    "all_val_step_nums = []\n",
    "\n",
    "best_val_loss = float('inf')\n",
    "\n",
    "train_step_offset = 0\n",
    "val_step_offset = 0\n",
    "for epoch in range(epochs):\n",
    "    print(f\"\\nEpoch {epoch + 1}/{epochs}\")\n",
    "\n",
    "    # --- Training ---\n",
    "    train_loss, train_step_nums, train_step_losses = train_epoch(\n",
    "        model, train_loader, optimizer, scheduler, device, log_interval=100\n",
    "    )\n",
    "\n",
    "    epoch_train_losses.append(train_loss)\n",
    "    # Offset step numbers for epoch continuity\n",
    "    train_step_nums = [step + train_step_offset for step in train_step_nums]\n",
    "    all_train_step_nums.extend(train_step_nums)\n",
    "    all_train_step_losses.extend(train_step_losses)\n",
    "    train_step_offset += len(train_loader)\n",
    "\n",
    "    # --- Evaluation ---\n",
    "    val_loss, val_step_nums, val_step_losses = evaluate(\n",
    "        model, val_loader, device, log_interval=100\n",
    "    )\n",
    "\n",
    "    epoch_val_losses.append(val_loss)\n",
    "    val_step_nums = [step + val_step_offset for step in val_step_nums]\n",
    "    all_val_step_nums.extend(val_step_nums)\n",
    "    all_val_step_losses.extend(val_step_losses)\n",
    "    val_step_offset += len(val_loader)\n",
    "\n",
    "    # --- Print losses ---\n",
    "    print(f\"Epoch {epoch + 1} - Train Loss: {train_loss:.4f}, Val Loss: {val_loss:.4f}\")\n",
    "    all_epochs.append(epoch + 1)\n",
    "    # --- Update best model ---\n",
    "    if val_loss < best_val_loss:\n",
    "        best_val_loss = val_loss\n",
    "        torch.save(model.state_dict(), \"best_model.pt\")\n"
   ]
  },
  {
   "cell_type": "markdown",
   "id": "48c17bc9",
   "metadata": {
    "id": "n21dNzC8xJLp",
    "papermill": {
     "duration": 2.461187,
     "end_time": "2025-05-27T21:00:56.445652",
     "exception": false,
     "start_time": "2025-05-27T21:00:53.984465",
     "status": "completed"
    },
    "tags": []
   },
   "source": [
    "Plot the training and validation loss in each epoch and also in each steps you saved before."
   ]
  },
  {
   "cell_type": "markdown",
   "id": "4cc79714",
   "metadata": {
    "id": "OTxtWs8axJLp",
    "papermill": {
     "duration": 2.303963,
     "end_time": "2025-05-27T21:01:01.110530",
     "exception": false,
     "start_time": "2025-05-27T21:00:58.806567",
     "status": "completed"
    },
    "tags": []
   },
   "source": [
    "# Inference (15 Points)"
   ]
  },
  {
   "cell_type": "markdown",
   "id": "ce075b09",
   "metadata": {
    "id": "XzQ9vx3ZxJLp",
    "papermill": {
     "duration": 2.303653,
     "end_time": "2025-05-27T21:01:05.844742",
     "exception": false,
     "start_time": "2025-05-27T21:01:03.541089",
     "status": "completed"
    },
    "tags": []
   },
   "source": [
    "Complete the function below to generate comments (positive or negative)"
   ]
  },
  {
   "cell_type": "code",
   "execution_count": 19,
   "id": "877706d2",
   "metadata": {
    "execution": {
     "iopub.execute_input": "2025-05-27T21:01:10.595079Z",
     "iopub.status.busy": "2025-05-27T21:01:10.594782Z",
     "iopub.status.idle": "2025-05-27T21:01:10.599679Z",
     "shell.execute_reply": "2025-05-27T21:01:10.599007Z"
    },
    "id": "eTP9CFFfxJL6",
    "papermill": {
     "duration": 2.419026,
     "end_time": "2025-05-27T21:01:10.600782",
     "exception": false,
     "start_time": "2025-05-27T21:01:08.181756",
     "status": "completed"
    },
    "tags": []
   },
   "outputs": [],
   "source": [
    "def generate_comment(model: nn.Module, tokenizer: Any, sentiment: str, max_length: int = 50) -> str:\n",
    "    # TODO: Implement text generation with sentiment control\n",
    "    # 1. Create the appropriate prefix based on the sentiment parameter\n",
    "    # 2. Generate text using the model's generate method\n",
    "\n",
    "    prompt = '<POS>' if sentiment == 'positive' else '<NEG>'\n",
    "\n",
    "    input = tokenizer(prompt, return_tensors=\"pt\").to(device)\n",
    "    # print(input['input_ids'])\n",
    "\n",
    "    output_ids = model.generate(input['input_ids'], max_length, top_p=0.8, top_k=100, temperature=0.5)\n",
    "    # print(output_ids)\n",
    "    generated_text = tokenizer.decode(output_ids[0], skip_special_tokens=True)\n",
    "    return generated_text"
   ]
  },
  {
   "cell_type": "code",
   "execution_count": 20,
   "id": "c4e0e936",
   "metadata": {
    "execution": {
     "iopub.execute_input": "2025-05-27T21:01:15.223805Z",
     "iopub.status.busy": "2025-05-27T21:01:15.223540Z",
     "iopub.status.idle": "2025-05-27T21:01:15.896368Z",
     "shell.execute_reply": "2025-05-27T21:01:15.895600Z"
    },
    "id": "dMBWzyJjT_0v",
    "outputId": "82cdafd3-d82b-4b90-d7e3-dac8b3ddc00c",
    "papermill": {
     "duration": 2.972806,
     "end_time": "2025-05-27T21:01:15.897503",
     "exception": false,
     "start_time": "2025-05-27T21:01:12.924697",
     "status": "completed"
    },
    "tags": []
   },
   "outputs": [
    {
     "name": "stdout",
     "output_type": "stream",
     "text": [
      "Negative Comment:\n",
      "سلام تاخیر رسید غذا سرد بود و کاملا سرد بود و بیکیفیت بود و غذا به دستم رسید و کیفیت غذاها هم خیلی خوب بود و کیفیت غذاها هم بسیار خوب بود و کیفیت و این رستورانهای دیگه از رست\n"
     ]
    }
   ],
   "source": [
    "model.eval()\n",
    "print('Negative Comment:')\n",
    "print(generate_comment(model, tokenizer, 'negative'))"
   ]
  },
  {
   "cell_type": "markdown",
   "id": "dcd564cf",
   "metadata": {
    "id": "lBAj79ZUxJL6",
    "papermill": {
     "duration": 2.379319,
     "end_time": "2025-05-27T21:01:20.713485",
     "exception": false,
     "start_time": "2025-05-27T21:01:18.334166",
     "status": "completed"
    },
    "tags": []
   },
   "source": [
    "Generate 10 positive and 10 negative comments and evaluate your results"
   ]
  },
  {
   "cell_type": "code",
   "execution_count": 21,
   "id": "8c7a2a2e",
   "metadata": {
    "execution": {
     "iopub.execute_input": "2025-05-27T21:01:25.447419Z",
     "iopub.status.busy": "2025-05-27T21:01:25.447111Z",
     "iopub.status.idle": "2025-05-27T21:01:28.913086Z",
     "shell.execute_reply": "2025-05-27T21:01:28.912293Z"
    },
    "id": "C2e5sQvyWg0a",
    "outputId": "3c70a212-af70-4c7a-e939-d552b2b2178c",
    "papermill": {
     "duration": 5.894246,
     "end_time": "2025-05-27T21:01:28.914328",
     "exception": false,
     "start_time": "2025-05-27T21:01:23.020082",
     "status": "completed"
    },
    "tags": []
   },
   "outputs": [
    {
     "name": "stdout",
     "output_type": "stream",
     "text": [
      "Positive Comment:\n",
      "سلام خیلی زود رسید و خیلی خوشمزه بود ممنونم ازتون و از اسنپ فود و اسنپ فود و اسنپ فود هم ازتون و اسنپ فود و اسنپ فود و اس\n",
      "Negative Comment:\n",
      "واقعا بد بود اصلا نمیشه ازشیمونم چرا این رستوران سفارش میدم این رستوران غذا سفارش میدم کیفیت غذا رو نداشتم این غذا بدم و واقعا این رستوران رو این رستوران واقعا متفم از این رست\n",
      "Positive Comment:\n",
      "واقعا عالی بود هم زود رسید هم داغ و گرم بود هم به دستم رسید هم داغ و هم به موقع رسید و هم رسید ممنونم ازتون که از اسنپ فود که به موقع بودیمون از شما که سفارش\n",
      "Negative Comment:\n",
      "بسته و بیکیفیت و بیکیفیت بود در سفارش نخواستم که سفارش داده بودم از شمام بدم این رستوران غذا رو به مشتری دائم این رستورانهای رستوران هستم از این رستوران هستم که این رست\n",
      "Positive Comment:\n",
      "غذا سرد بود و خیلی زود رسید و گرم بود ممنون از اسنپ فود و اسنپ فود و اسنپ فود و اسنپ فود که به موقع و اسنپ فود و اسنپ\n",
      "Negative Comment:\n",
      "واقعا افتضاح بود انگار از نون پیتزا نپخته بود و اصلا قابل خوردن نبود و ازش همبرگرنه بود واقعا از این رستوران راضی بودم این رستوران غذا از این رستوران سفارش نمیشه\n",
      "Positive Comment:\n",
      "من مشتری مدلییشگی هستم ولی اینبار کیفیت غذاهاتون خیلی خوب بود و به نسبت به قیمت بالا بود و کیفیت و کیفیت و کیفیت و قیمت مناسب بود ممنون از رستورانهای رستورانهایتون و کیفیت غذاهاتون را\n",
      "Negative Comment:\n",
      "من نوشابه سفارش دادم ولی  تومانده بود و  تومانده  تومان پول من رو به این رستوران رو هم که به این رستوران دادم برای این رستوران غذا رو میگیرم این رست\n",
      "Positive Comment:\n",
      "سلام و کیفیت غذا خوب بود فقط کاش یکم زمان رسیدن غذا طول کشید تا تحویل غذا هم زیاد بود که غذا رو تحویل غذا سرد بود و غذا سرد شده بود و رستوران هم به دستم رسید و غذا هم خیلی طول\n",
      "Negative Comment:\n",
      "واقعا کیفیت و حجم کم بود و کیفیت غذا بسیار پایین بود و حجم غذا خیلی کم بود و با توجه به قیمت و قیمت غذا خیلی بهتر بود و از رستوران بود و کیفیت غذاهاتون خیلی راضی بودم از این رستورانهای منطقه\n",
      "Positive Comment:\n",
      "سلام سفارش دیر رسید و سرد بود و کیفیت خوب بود فقط با تشکر از رستورانهای این رستوران خوبتون خیلی راضی بودم که از رستوران و از اسنپ فود و اسنپ فود که از اسنپ\n",
      "Negative Comment:\n",
      "غذا سرد بود و سیبزمینی سرخکرده سرد بود و سیبزمینی بود و پنینی هم خیلی زیاد بود و پنیر بود و سیبزمینی هم خیلی کم بود و سس پیتزا هم خوب بود و پنیر پ\n",
      "Positive Comment:\n",
      "خیلی سریع و داغ و گرم رسید ممنون از شما رستوران شما و اسنپ فود و اسنپ فود و اسنپ فود عزیز عالی اسنپ فود و اسنپ فود که شما اسن\n",
      "Negative Comment:\n",
      "من یک سفارش دادم و بعدش  ساعت و نیم رسید و بعد از یک ساعت و غذا به دستم رسید و سرد و سرد بود و بیکیفیت غذا به دستم و به دستم رسید و پیک هم بسیار محترم و\n",
      "Positive Comment:\n",
      "کیفیت غذا خوب بود فقط کمی سرد بود و پنیر پیتزا هم که داشت در کل خوب بود و پیتزا و قارچهاش رو به این پیتزا هم کم کنید خیلی بهتر بود و موادش بهتر بود و کم\n",
      "Negative Comment:\n",
      "واقعا کیفیت پایین اومده پایین و اصلا کیفیت خوبی نداشت و از این رستوران سفارش نمیشه با این رستوران سفارش من مشتری مشتری این رستوران غذا رو نداشتم ولی این رستوران غذاهاتون غذا راضی بودم و رستوران را\n",
      "Positive Comment:\n",
      "بسیار خوشمزه و با کیفیت و داغ و خوشمزه بود و هم خیلی هم سریع هم رسید هم رسید ممنون از شما که سفارش میدم و اسنپ فود و اسنپ فود و اسنپ\n",
      "Negative Comment:\n",
      "غذا سرد بود و کیفیت پایین بود و کیفیت غذا رو ندیده بود و رستوران راضی بودم و اسنپ فود عزیز غذاهای دیگه راضی بودم و رستوران و رستورانهای رستوران و رستوران و اسنپ\n",
      "Positive Comment:\n",
      "خیلی زود رسید هم خیلی سریع و داغ و داغ و خوشمزه بود ممنون از شما اسنپ فود و اسنپ فود و اسنپ فود عزیز و اسنپ فود و اسنپ ف\n",
      "Negative Comment:\n",
      "بدترینترین و تاخیر در تحویل غذا سرد تحویل داده شد و غذا سرد به دستم رسید و به دستم و بعد از تحویل غذا غذا سرد بود و سرد سرد شد و از سفارش به دستم برسه بعد از\n"
     ]
    }
   ],
   "source": [
    "# TODO: Demonstrate the model's sentiment-controlled text generation\n",
    "\n",
    "model.eval()\n",
    "\n",
    "for _ in range(10):\n",
    "  # a. Generate a positive comment using the generate_comment function:\n",
    "  print('Positive Comment:')\n",
    "  print(generate_comment(model, tokenizer, 'positive'))\n",
    "  # b. Generate a negative comment using the generate_comment function:\n",
    "  print('Negative Comment:')\n",
    "  print(generate_comment(model, tokenizer, 'negative'))"
   ]
  },
  {
   "cell_type": "code",
   "execution_count": 22,
   "id": "6f9dc022",
   "metadata": {
    "execution": {
     "iopub.execute_input": "2025-05-27T21:01:33.515448Z",
     "iopub.status.busy": "2025-05-27T21:01:33.514654Z",
     "iopub.status.idle": "2025-05-27T21:01:34.300701Z",
     "shell.execute_reply": "2025-05-27T21:01:34.300009Z"
    },
    "id": "QoHYyx9aYXS_",
    "outputId": "5370cf81-bc91-4572-873f-de902954229f",
    "papermill": {
     "duration": 3.083965,
     "end_time": "2025-05-27T21:01:34.303111",
     "exception": false,
     "start_time": "2025-05-27T21:01:31.219146",
     "status": "completed"
    },
    "tags": []
   },
   "outputs": [
    {
     "data": {
      "image/png": "[encoded data removed]",
      "text/plain": [
       "<Figure size 1400x800 with 3 Axes>"
      ]
     },
     "metadata": {},
     "output_type": "display_data"
    }
   ],
   "source": [
    "# TODO: Visualize the training and validation results\n",
    "\n",
    "# Create three subplots:\n",
    "#    a. Plot epoch-level training and validation losses\n",
    "#    b. Plot step-level training losses\n",
    "#    c. Plot step-level validation losses\n",
    "\n",
    "import matplotlib.pyplot as plt\n",
    "\n",
    "# Plotting\n",
    "fig, axs = plt.subplots(3, 1, figsize=(14, 8), sharex=False)\n",
    "\n",
    "# First subplot: Loss by Epoch\n",
    "axs[0].plot(all_epochs, epoch_train_losses, label='Train Loss')\n",
    "axs[0].plot(all_epochs, epoch_val_losses, label='Validation Loss')\n",
    "axs[0].set_title('Training and Validation Loss by Epoch')\n",
    "axs[0].set_xlabel('Epoch')\n",
    "axs[0].set_ylabel('Loss')\n",
    "axs[0].legend()\n",
    "axs[0].grid(True)\n",
    "axs[0].set_axisbelow(True)\n",
    "\n",
    "# Second subplot: Training Loss by Step\n",
    "axs[1].plot(all_train_step_nums, all_train_step_losses, label='Training Steps', color='blue')\n",
    "axs[1].set_title('Training Loss by Step')\n",
    "axs[1].set_xlabel('Steps')\n",
    "axs[1].set_ylabel('Loss')\n",
    "axs[1].legend()\n",
    "axs[1].grid(True)\n",
    "axs[1].set_axisbelow(True)\n",
    "\n",
    "# Third subplot: Validation Loss by Step\n",
    "axs[2].plot(all_val_step_nums, all_val_step_losses, label='Validation Steps', color='red')\n",
    "axs[2].set_title('Validation Loss by Step')\n",
    "axs[2].set_xlabel('Steps')\n",
    "axs[2].set_ylabel('Loss')\n",
    "axs[2].legend()\n",
    "axs[2].grid(True)\n",
    "axs[2].set_axisbelow(True)\n",
    "\n",
    "plt.tight_layout()\n",
    "plt.show()\n"
   ]
  },
  {
   "cell_type": "markdown",
   "id": "071f1aba",
   "metadata": {
    "id": "wtOWCsR8xJL6",
    "papermill": {
     "duration": 2.309299,
     "end_time": "2025-05-27T21:01:39.096084",
     "exception": false,
     "start_time": "2025-05-27T21:01:36.786785",
     "status": "completed"
    },
    "tags": []
   },
   "source": [
    "## Inference Time Hyperparameters (10 Points)"
   ]
  },
  {
   "cell_type": "markdown",
   "id": "d15fdeef",
   "metadata": {
    "id": "x2WdDPIYxJL6",
    "papermill": {
     "duration": 2.431846,
     "end_time": "2025-05-27T21:01:43.824446",
     "exception": false,
     "start_time": "2025-05-27T21:01:41.392600",
     "status": "completed"
    },
    "tags": []
   },
   "source": [
    "Play with these parameters for the best results:\n",
    "  \n",
    "temperature, top_k, top_p\n",
    "\n",
    "Briefly report what you saw and try to explain why is it happening. What is the effect of each one?\n",
    "\n",
    "**Your Report**:  "
   ]
  }
 ],
 "metadata": {
  "accelerator": "GPU",
  "colab": {
   "gpuType": "T4",
   "provenance": []
  },
  "kaggle": {
   "accelerator": "nvidiaTeslaT4",
   "dataSources": [
    {
     "databundleVersionId": 11166099,
     "datasetId": 6708299,
     "sourceId": 10807150,
     "sourceType": "datasetVersion"
    }
   ],
   "dockerImageVersionId": 31041,
   "isGpuEnabled": true,
   "isInternetEnabled": true,
   "language": "python",
   "sourceType": "notebook"
  },
  "kernelspec": {
   "display_name": "Python 3",
   "language": "python",
   "name": "python3"
  },
  "language_info": {
   "codemirror_mode": {
    "name": "ipython",
    "version": 3
   },
   "file_extension": ".py",
   "mimetype": "text/x-python",
   "name": "python",
   "nbconvert_exporter": "python",
   "pygments_lexer": "ipython3",
   "version": "3.11.11"
  },
  "papermill": {
   "default_parameters": {},
   "duration": 7619.358048,
   "end_time": "2025-05-27T21:01:49.711685",
   "environment_variables": {},
   "exception": null,
   "input_path": "__notebook__.ipynb",
   "output_path": "__notebook__.ipynb",
   "parameters": {},
   "start_time": "2025-05-27T18:54:50.353637",
   "version": "2.6.0"
  },
  "widgets": {
   "application/vnd.jupyter.widget-state+json": {
    "state": {
     "06515dfe9f524b0d8983f575929559b4": {
      "model_module": "@jupyter-widgets/base",
      "model_module_version": "2.0.0",
      "model_name": "LayoutModel",
      "state": {
       "_model_module": "@jupyter-widgets/base",
       "_model_module_version": "2.0.0",
       "_model_name": "LayoutModel",
       "_view_count": null,
       "_view_module": "@jupyter-widgets/base",
       "_view_module_version": "2.0.0",
       "_view_name": "LayoutView",
       "align_content": null,
       "align_items": null,
       "align_self": null,
       "border_bottom": null,
       "border_left": null,
       "border_right": null,
       "border_top": null,
       "bottom": null,
       "display": null,
       "flex": null,
       "flex_flow": null,
       "grid_area": null,
       "grid_auto_columns": null,
       "grid_auto_flow": null,
       "grid_auto_rows": null,
       "grid_column": null,
       "grid_gap": null,
       "grid_row": null,
       "grid_template_areas": null,
       "grid_template_columns": null,
       "grid_template_rows": null,
       "height": null,
       "justify_content": null,
       "justify_items": null,
       "left": null,
       "margin": null,
       "max_height": null,
       "max_width": null,
       "min_height": null,
       "min_width": null,
       "object_fit": null,
       "object_position": null,
       "order": null,
       "overflow": null,
       "padding": null,
       "right": null,
       "top": null,
       "visibility": null,
       "width": null
      }
     },
     "0aecf7f16c684b32bdecf990f1ebced1": {
      "model_module": "@jupyter-widgets/base",
      "model_module_version": "2.0.0",
      "model_name": "LayoutModel",
      "state": {
       "_model_module": "@jupyter-widgets/base",
       "_model_module_version": "2.0.0",
       "_model_name": "LayoutModel",
       "_view_count": null,
       "_view_module": "@jupyter-widgets/base",
       "_view_module_version": "2.0.0",
       "_view_name": "LayoutView",
       "align_content": null,
       "align_items": null,
       "align_self": null,
       "border_bottom": null,
       "border_left": null,
       "border_right": null,
       "border_top": null,
       "bottom": null,
       "display": null,
       "flex": null,
       "flex_flow": null,
       "grid_area": null,
       "grid_auto_columns": null,
       "grid_auto_flow": null,
       "grid_auto_rows": null,
       "grid_column": null,
       "grid_gap": null,
       "grid_row": null,
       "grid_template_areas": null,
       "grid_template_columns": null,
       "grid_template_rows": null,
       "height": null,
       "justify_content": null,
       "justify_items": null,
       "left": null,
       "margin": null,
       "max_height": null,
       "max_width": null,
       "min_height": null,
       "min_width": null,
       "object_fit": null,
       "object_position": null,
       "order": null,
       "overflow": null,
       "padding": null,
       "right": null,
       "top": null,
       "visibility": null,
       "width": null
      }
     },
     "12ff432554d340e183f3cdbbee15232a": {
      "model_module": "@jupyter-widgets/controls",
      "model_module_version": "2.0.0",
      "model_name": "ProgressStyleModel",
      "state": {
       "_model_module": "@jupyter-widgets/controls",
       "_model_module_version": "2.0.0",
       "_model_name": "ProgressStyleModel",
       "_view_count": null,
       "_view_module": "@jupyter-widgets/base",
       "_view_module_version": "2.0.0",
       "_view_name": "StyleView",
       "bar_color": null,
       "description_width": ""
      }
     },
     "135c1688c4d146d9ae0bd1d4e80877ce": {
      "model_module": "@jupyter-widgets/controls",
      "model_module_version": "2.0.0",
      "model_name": "HBoxModel",
      "state": {
       "_dom_classes": [],
       "_model_module": "@jupyter-widgets/controls",
       "_model_module_version": "2.0.0",
       "_model_name": "HBoxModel",
       "_view_count": null,
       "_view_module": "@jupyter-widgets/controls",
       "_view_module_version": "2.0.0",
       "_view_name": "HBoxView",
       "box_style": "",
       "children": [
        "IPY_MODEL_3cdb740275184e978d39e1b6125b6633",
        "IPY_MODEL_ca45fd093d0943bb9ac64feb63a2bbb3",
        "IPY_MODEL_eccd87c4553e453aa9d385dee02005ef"
       ],
       "layout": "IPY_MODEL_dfb47d240f8040cda3a49b3a6352b557",
       "tabbable": null,
       "tooltip": null
      }
     },
     "1f80e12244214484a9f2efc81f67715d": {
      "model_module": "@jupyter-widgets/base",
      "model_module_version": "2.0.0",
      "model_name": "LayoutModel",
      "state": {
       "_model_module": "@jupyter-widgets/base",
       "_model_module_version": "2.0.0",
       "_model_name": "LayoutModel",
       "_view_count": null,
       "_view_module": "@jupyter-widgets/base",
       "_view_module_version": "2.0.0",
       "_view_name": "LayoutView",
       "align_content": null,
       "align_items": null,
       "align_self": null,
       "border_bottom": null,
       "border_left": null,
       "border_right": null,
       "border_top": null,
       "bottom": null,
       "display": null,
       "flex": null,
       "flex_flow": null,
       "grid_area": null,
       "grid_auto_columns": null,
       "grid_auto_flow": null,
       "grid_auto_rows": null,
       "grid_column": null,
       "grid_gap": null,
       "grid_row": null,
       "grid_template_areas": null,
       "grid_template_columns": null,
       "grid_template_rows": null,
       "height": null,
       "justify_content": null,
       "justify_items": null,
       "left": null,
       "margin": null,
       "max_height": null,
       "max_width": null,
       "min_height": null,
       "min_width": null,
       "object_fit": null,
       "object_position": null,
       "order": null,
       "overflow": null,
       "padding": null,
       "right": null,
       "top": null,
       "visibility": null,
       "width": null
      }
     },
     "221f5dc18160496f9011bd28858a988c": {
      "model_module": "@jupyter-widgets/controls",
      "model_module_version": "2.0.0",
      "model_name": "HTMLModel",
      "state": {
       "_dom_classes": [],
       "_model_module": "@jupyter-widgets/controls",
       "_model_module_version": "2.0.0",
       "_model_name": "HTMLModel",
       "_view_count": null,
       "_view_module": "@jupyter-widgets/controls",
       "_view_module_version": "2.0.0",
       "_view_name": "HTMLView",
       "description": "",
       "description_allow_html": false,
       "layout": "IPY_MODEL_4cfc10a6298446ef884ddfd119e767d7",
       "placeholder": "​",
       "style": "IPY_MODEL_8c9f730977e5416faa1ae42ce13571e5",
       "tabbable": null,
       "tooltip": null,
       "value": " 47.0k/47.0k [00:00&lt;00:00, 4.02MB/s]"
      }
     },
     "32e0721903974790b3b7a5a35fd80620": {
      "model_module": "@jupyter-widgets/controls",
      "model_module_version": "2.0.0",
      "model_name": "HBoxModel",
      "state": {
       "_dom_classes": [],
       "_model_module": "@jupyter-widgets/controls",
       "_model_module_version": "2.0.0",
       "_model_name": "HBoxModel",
       "_view_count": null,
       "_view_module": "@jupyter-widgets/controls",
       "_view_module_version": "2.0.0",
       "_view_name": "HBoxView",
       "box_style": "",
       "children": [
        "IPY_MODEL_7f0fe13795fc461282d6ce00048c8fc4",
        "IPY_MODEL_4dc66e6be9524075a4ffcc0ffc8fc430",
        "IPY_MODEL_3a4f53a7093c494baaf92faeb74b90f9"
       ],
       "layout": "IPY_MODEL_87e5f218835647539f3c66095b1aebac",
       "tabbable": null,
       "tooltip": null
      }
     },
     "3a4f53a7093c494baaf92faeb74b90f9": {
      "model_module": "@jupyter-widgets/controls",
      "model_module_version": "2.0.0",
      "model_name": "HTMLModel",
      "state": {
       "_dom_classes": [],
       "_model_module": "@jupyter-widgets/controls",
       "_model_module_version": "2.0.0",
       "_model_name": "HTMLModel",
       "_view_count": null,
       "_view_module": "@jupyter-widgets/controls",
       "_view_module_version": "2.0.0",
       "_view_name": "HTMLView",
       "description": "",
       "description_allow_html": false,
       "layout": "IPY_MODEL_f4b73c96cc624ff7b6854b6d995e97a4",
       "placeholder": "​",
       "style": "IPY_MODEL_4c170aafb1a24c23bb75530b8be99b92",
       "tabbable": null,
       "tooltip": null,
       "value": " 17.5M/17.5M [00:00&lt;00:00, 172MB/s]"
      }
     },
     "3af1451df62141ac92df202e69dcefa3": {
      "model_module": "@jupyter-widgets/base",
      "model_module_version": "2.0.0",
      "model_name": "LayoutModel",
      "state": {
       "_model_module": "@jupyter-widgets/base",
       "_model_module_version": "2.0.0",
       "_model_name": "LayoutModel",
       "_view_count": null,
       "_view_module": "@jupyter-widgets/base",
       "_view_module_version": "2.0.0",
       "_view_name": "LayoutView",
       "align_content": null,
       "align_items": null,
       "align_self": null,
       "border_bottom": null,
       "border_left": null,
       "border_right": null,
       "border_top": null,
       "bottom": null,
       "display": null,
       "flex": null,
       "flex_flow": null,
       "grid_area": null,
       "grid_auto_columns": null,
       "grid_auto_flow": null,
       "grid_auto_rows": null,
       "grid_column": null,
       "grid_gap": null,
       "grid_row": null,
       "grid_template_areas": null,
       "grid_template_columns": null,
       "grid_template_rows": null,
       "height": null,
       "justify_content": null,
       "justify_items": null,
       "left": null,
       "margin": null,
       "max_height": null,
       "max_width": null,
       "min_height": null,
       "min_width": null,
       "object_fit": null,
       "object_position": null,
       "order": null,
       "overflow": null,
       "padding": null,
       "right": null,
       "top": null,
       "visibility": null,
       "width": null
      }
     },
     "3cdb740275184e978d39e1b6125b6633": {
      "model_module": "@jupyter-widgets/controls",
      "model_module_version": "2.0.0",
      "model_name": "HTMLModel",
      "state": {
       "_dom_classes": [],
       "_model_module": "@jupyter-widgets/controls",
       "_model_module_version": "2.0.0",
       "_model_name": "HTMLModel",
       "_view_count": null,
       "_view_module": "@jupyter-widgets/controls",
       "_view_module_version": "2.0.0",
       "_view_name": "HTMLView",
       "description": "",
       "description_allow_html": false,
       "layout": "IPY_MODEL_3af1451df62141ac92df202e69dcefa3",
       "placeholder": "​",
       "style": "IPY_MODEL_ba2a7f0d7754480cbe28a67acf81bfc0",
       "tabbable": null,
       "tooltip": null,
       "value": "tokenizer.model: 100%"
      }
     },
     "3efa548b7a584e82a8908bbf499268f9": {
      "model_module": "@jupyter-widgets/base",
      "model_module_version": "2.0.0",
      "model_name": "LayoutModel",
      "state": {
       "_model_module": "@jupyter-widgets/base",
       "_model_module_version": "2.0.0",
       "_model_name": "LayoutModel",
       "_view_count": null,
       "_view_module": "@jupyter-widgets/base",
       "_view_module_version": "2.0.0",
       "_view_name": "LayoutView",
       "align_content": null,
       "align_items": null,
       "align_self": null,
       "border_bottom": null,
       "border_left": null,
       "border_right": null,
       "border_top": null,
       "bottom": null,
       "display": null,
       "flex": null,
       "flex_flow": null,
       "grid_area": null,
       "grid_auto_columns": null,
       "grid_auto_flow": null,
       "grid_auto_rows": null,
       "grid_column": null,
       "grid_gap": null,
       "grid_row": null,
       "grid_template_areas": null,
       "grid_template_columns": null,
       "grid_template_rows": null,
       "height": null,
       "justify_content": null,
       "justify_items": null,
       "left": null,
       "margin": null,
       "max_height": null,
       "max_width": null,
       "min_height": null,
       "min_width": null,
       "object_fit": null,
       "object_position": null,
       "order": null,
       "overflow": null,
       "padding": null,
       "right": null,
       "top": null,
       "visibility": null,
       "width": null
      }
     },
     "4202a9a401f34509bc6a7d9f80a42535": {
      "model_module": "@jupyter-widgets/controls",
      "model_module_version": "2.0.0",
      "model_name": "FloatProgressModel",
      "state": {
       "_dom_classes": [],
       "_model_module": "@jupyter-widgets/controls",
       "_model_module_version": "2.0.0",
       "_model_name": "FloatProgressModel",
       "_view_count": null,
       "_view_module": "@jupyter-widgets/controls",
       "_view_module_version": "2.0.0",
       "_view_name": "ProgressView",
       "bar_style": "success",
       "description": "",
       "description_allow_html": false,
       "layout": "IPY_MODEL_7e988b606ef14321a5906ea64207425d",
       "max": 46996,
       "min": 0,
       "orientation": "horizontal",
       "style": "IPY_MODEL_bc8902e9c30b45a685ae55c8eb240a64",
       "tabbable": null,
       "tooltip": null,
       "value": 46996
      }
     },
     "4250b17120524065964000daa0cbd9bc": {
      "model_module": "@jupyter-widgets/base",
      "model_module_version": "2.0.0",
      "model_name": "LayoutModel",
      "state": {
       "_model_module": "@jupyter-widgets/base",
       "_model_module_version": "2.0.0",
       "_model_name": "LayoutModel",
       "_view_count": null,
       "_view_module": "@jupyter-widgets/base",
       "_view_module_version": "2.0.0",
       "_view_name": "LayoutView",
       "align_content": null,
       "align_items": null,
       "align_self": null,
       "border_bottom": null,
       "border_left": null,
       "border_right": null,
       "border_top": null,
       "bottom": null,
       "display": null,
       "flex": null,
       "flex_flow": null,
       "grid_area": null,
       "grid_auto_columns": null,
       "grid_auto_flow": null,
       "grid_auto_rows": null,
       "grid_column": null,
       "grid_gap": null,
       "grid_row": null,
       "grid_template_areas": null,
       "grid_template_columns": null,
       "grid_template_rows": null,
       "height": null,
       "justify_content": null,
       "justify_items": null,
       "left": null,
       "margin": null,
       "max_height": null,
       "max_width": null,
       "min_height": null,
       "min_width": null,
       "object_fit": null,
       "object_position": null,
       "order": null,
       "overflow": null,
       "padding": null,
       "right": null,
       "top": null,
       "visibility": null,
       "width": null
      }
     },
     "4c170aafb1a24c23bb75530b8be99b92": {
      "model_module": "@jupyter-widgets/controls",
      "model_module_version": "2.0.0",
      "model_name": "HTMLStyleModel",
      "state": {
       "_model_module": "@jupyter-widgets/controls",
       "_model_module_version": "2.0.0",
       "_model_name": "HTMLStyleModel",
       "_view_count": null,
       "_view_module": "@jupyter-widgets/base",
       "_view_module_version": "2.0.0",
       "_view_name": "StyleView",
       "background": null,
       "description_width": "",
       "font_size": null,
       "text_color": null
      }
     },
     "4cfc10a6298446ef884ddfd119e767d7": {
      "model_module": "@jupyter-widgets/base",
      "model_module_version": "2.0.0",
      "model_name": "LayoutModel",
      "state": {
       "_model_module": "@jupyter-widgets/base",
       "_model_module_version": "2.0.0",
       "_model_name": "LayoutModel",
       "_view_count": null,
       "_view_module": "@jupyter-widgets/base",
       "_view_module_version": "2.0.0",
       "_view_name": "LayoutView",
       "align_content": null,
       "align_items": null,
       "align_self": null,
       "border_bottom": null,
       "border_left": null,
       "border_right": null,
       "border_top": null,
       "bottom": null,
       "display": null,
       "flex": null,
       "flex_flow": null,
       "grid_area": null,
       "grid_auto_columns": null,
       "grid_auto_flow": null,
       "grid_auto_rows": null,
       "grid_column": null,
       "grid_gap": null,
       "grid_row": null,
       "grid_template_areas": null,
       "grid_template_columns": null,
       "grid_template_rows": null,
       "height": null,
       "justify_content": null,
       "justify_items": null,
       "left": null,
       "margin": null,
       "max_height": null,
       "max_width": null,
       "min_height": null,
       "min_width": null,
       "object_fit": null,
       "object_position": null,
       "order": null,
       "overflow": null,
       "padding": null,
       "right": null,
       "top": null,
       "visibility": null,
       "width": null
      }
     },
     "4dc66e6be9524075a4ffcc0ffc8fc430": {
      "model_module": "@jupyter-widgets/controls",
      "model_module_version": "2.0.0",
      "model_name": "FloatProgressModel",
      "state": {
       "_dom_classes": [],
       "_model_module": "@jupyter-widgets/controls",
       "_model_module_version": "2.0.0",
       "_model_name": "FloatProgressModel",
       "_view_count": null,
       "_view_module": "@jupyter-widgets/controls",
       "_view_module_version": "2.0.0",
       "_view_name": "ProgressView",
       "bar_style": "success",
       "description": "",
       "description_allow_html": false,
       "layout": "IPY_MODEL_0aecf7f16c684b32bdecf990f1ebced1",
       "max": 17525357,
       "min": 0,
       "orientation": "horizontal",
       "style": "IPY_MODEL_12ff432554d340e183f3cdbbee15232a",
       "tabbable": null,
       "tooltip": null,
       "value": 17525357
      }
     },
     "556251a60b754dfd807123c3df4a9174": {
      "model_module": "@jupyter-widgets/controls",
      "model_module_version": "2.0.0",
      "model_name": "HBoxModel",
      "state": {
       "_dom_classes": [],
       "_model_module": "@jupyter-widgets/controls",
       "_model_module_version": "2.0.0",
       "_model_name": "HBoxModel",
       "_view_count": null,
       "_view_module": "@jupyter-widgets/controls",
       "_view_module_version": "2.0.0",
       "_view_name": "HBoxView",
       "box_style": "",
       "children": [
        "IPY_MODEL_dd89770a060e496daabea1cf68cef79a",
        "IPY_MODEL_7bb84c7a8f9e4186887f7ffd25ed1c8d",
        "IPY_MODEL_7ea817d431e145e084302cb4b85f8df4"
       ],
       "layout": "IPY_MODEL_88c2a10372c94f5e92744a5b157e33c5",
       "tabbable": null,
       "tooltip": null
      }
     },
     "755306c45e9942ac82a00241a8dda0e5": {
      "model_module": "@jupyter-widgets/controls",
      "model_module_version": "2.0.0",
      "model_name": "HTMLStyleModel",
      "state": {
       "_model_module": "@jupyter-widgets/controls",
       "_model_module_version": "2.0.0",
       "_model_name": "HTMLStyleModel",
       "_view_count": null,
       "_view_module": "@jupyter-widgets/base",
       "_view_module_version": "2.0.0",
       "_view_name": "StyleView",
       "background": null,
       "description_width": "",
       "font_size": null,
       "text_color": null
      }
     },
     "7bb84c7a8f9e4186887f7ffd25ed1c8d": {
      "model_module": "@jupyter-widgets/controls",
      "model_module_version": "2.0.0",
      "model_name": "FloatProgressModel",
      "state": {
       "_dom_classes": [],
       "_model_module": "@jupyter-widgets/controls",
       "_model_module_version": "2.0.0",
       "_model_name": "FloatProgressModel",
       "_view_count": null,
       "_view_module": "@jupyter-widgets/controls",
       "_view_module_version": "2.0.0",
       "_view_name": "ProgressView",
       "bar_style": "success",
       "description": "",
       "description_allow_html": false,
       "layout": "IPY_MODEL_3efa548b7a584e82a8908bbf499268f9",
       "max": 636,
       "min": 0,
       "orientation": "horizontal",
       "style": "IPY_MODEL_8367f4f8236646b5ac2f8eacdac1268f",
       "tabbable": null,
       "tooltip": null,
       "value": 636
      }
     },
     "7e988b606ef14321a5906ea64207425d": {
      "model_module": "@jupyter-widgets/base",
      "model_module_version": "2.0.0",
      "model_name": "LayoutModel",
      "state": {
       "_model_module": "@jupyter-widgets/base",
       "_model_module_version": "2.0.0",
       "_model_name": "LayoutModel",
       "_view_count": null,
       "_view_module": "@jupyter-widgets/base",
       "_view_module_version": "2.0.0",
       "_view_name": "LayoutView",
       "align_content": null,
       "align_items": null,
       "align_self": null,
       "border_bottom": null,
       "border_left": null,
       "border_right": null,
       "border_top": null,
       "bottom": null,
       "display": null,
       "flex": null,
       "flex_flow": null,
       "grid_area": null,
       "grid_auto_columns": null,
       "grid_auto_flow": null,
       "grid_auto_rows": null,
       "grid_column": null,
       "grid_gap": null,
       "grid_row": null,
       "grid_template_areas": null,
       "grid_template_columns": null,
       "grid_template_rows": null,
       "height": null,
       "justify_content": null,
       "justify_items": null,
       "left": null,
       "margin": null,
       "max_height": null,
       "max_width": null,
       "min_height": null,
       "min_width": null,
       "object_fit": null,
       "object_position": null,
       "order": null,
       "overflow": null,
       "padding": null,
       "right": null,
       "top": null,
       "visibility": null,
       "width": null
      }
     },
     "7ea817d431e145e084302cb4b85f8df4": {
      "model_module": "@jupyter-widgets/controls",
      "model_module_version": "2.0.0",
      "model_name": "HTMLModel",
      "state": {
       "_dom_classes": [],
       "_model_module": "@jupyter-widgets/controls",
       "_model_module_version": "2.0.0",
       "_model_name": "HTMLModel",
       "_view_count": null,
       "_view_module": "@jupyter-widgets/controls",
       "_view_module_version": "2.0.0",
       "_view_name": "HTMLView",
       "description": "",
       "description_allow_html": false,
       "layout": "IPY_MODEL_1f80e12244214484a9f2efc81f67715d",
       "placeholder": "​",
       "style": "IPY_MODEL_ed401ebe0bc041f3b2c13ef0e8cab301",
       "tabbable": null,
       "tooltip": null,
       "value": " 636/636 [00:00&lt;00:00, 77.5kB/s]"
      }
     },
     "7f0fe13795fc461282d6ce00048c8fc4": {
      "model_module": "@jupyter-widgets/controls",
      "model_module_version": "2.0.0",
      "model_name": "HTMLModel",
      "state": {
       "_dom_classes": [],
       "_model_module": "@jupyter-widgets/controls",
       "_model_module_version": "2.0.0",
       "_model_name": "HTMLModel",
       "_view_count": null,
       "_view_module": "@jupyter-widgets/controls",
       "_view_module_version": "2.0.0",
       "_view_name": "HTMLView",
       "description": "",
       "description_allow_html": false,
       "layout": "IPY_MODEL_e44e0795f3014371ae312bfeb217a265",
       "placeholder": "​",
       "style": "IPY_MODEL_bc7cef374b78473da3f92d9068050d94",
       "tabbable": null,
       "tooltip": null,
       "value": "tokenizer.json: 100%"
      }
     },
     "8367f4f8236646b5ac2f8eacdac1268f": {
      "model_module": "@jupyter-widgets/controls",
      "model_module_version": "2.0.0",
      "model_name": "ProgressStyleModel",
      "state": {
       "_model_module": "@jupyter-widgets/controls",
       "_model_module_version": "2.0.0",
       "_model_name": "ProgressStyleModel",
       "_view_count": null,
       "_view_module": "@jupyter-widgets/base",
       "_view_module_version": "2.0.0",
       "_view_name": "StyleView",
       "bar_color": null,
       "description_width": ""
      }
     },
     "85f7d5ff4fa74bc1af35fbe2979a57b5": {
      "model_module": "@jupyter-widgets/controls",
      "model_module_version": "2.0.0",
      "model_name": "HTMLStyleModel",
      "state": {
       "_model_module": "@jupyter-widgets/controls",
       "_model_module_version": "2.0.0",
       "_model_name": "HTMLStyleModel",
       "_view_count": null,
       "_view_module": "@jupyter-widgets/base",
       "_view_module_version": "2.0.0",
       "_view_name": "StyleView",
       "background": null,
       "description_width": "",
       "font_size": null,
       "text_color": null
      }
     },
     "87e5f218835647539f3c66095b1aebac": {
      "model_module": "@jupyter-widgets/base",
      "model_module_version": "2.0.0",
      "model_name": "LayoutModel",
      "state": {
       "_model_module": "@jupyter-widgets/base",
       "_model_module_version": "2.0.0",
       "_model_name": "LayoutModel",
       "_view_count": null,
       "_view_module": "@jupyter-widgets/base",
       "_view_module_version": "2.0.0",
       "_view_name": "LayoutView",
       "align_content": null,
       "align_items": null,
       "align_self": null,
       "border_bottom": null,
       "border_left": null,
       "border_right": null,
       "border_top": null,
       "bottom": null,
       "display": null,
       "flex": null,
       "flex_flow": null,
       "grid_area": null,
       "grid_auto_columns": null,
       "grid_auto_flow": null,
       "grid_auto_rows": null,
       "grid_column": null,
       "grid_gap": null,
       "grid_row": null,
       "grid_template_areas": null,
       "grid_template_columns": null,
       "grid_template_rows": null,
       "height": null,
       "justify_content": null,
       "justify_items": null,
       "left": null,
       "margin": null,
       "max_height": null,
       "max_width": null,
       "min_height": null,
       "min_width": null,
       "object_fit": null,
       "object_position": null,
       "order": null,
       "overflow": null,
       "padding": null,
       "right": null,
       "top": null,
       "visibility": null,
       "width": null
      }
     },
     "88c2a10372c94f5e92744a5b157e33c5": {
      "model_module": "@jupyter-widgets/base",
      "model_module_version": "2.0.0",
      "model_name": "LayoutModel",
      "state": {
       "_model_module": "@jupyter-widgets/base",
       "_model_module_version": "2.0.0",
       "_model_name": "LayoutModel",
       "_view_count": null,
       "_view_module": "@jupyter-widgets/base",
       "_view_module_version": "2.0.0",
       "_view_name": "LayoutView",
       "align_content": null,
       "align_items": null,
       "align_self": null,
       "border_bottom": null,
       "border_left": null,
       "border_right": null,
       "border_top": null,
       "bottom": null,
       "display": null,
       "flex": null,
       "flex_flow": null,
       "grid_area": null,
       "grid_auto_columns": null,
       "grid_auto_flow": null,
       "grid_auto_rows": null,
       "grid_column": null,
       "grid_gap": null,
       "grid_row": null,
       "grid_template_areas": null,
       "grid_template_columns": null,
       "grid_template_rows": null,
       "height": null,
       "justify_content": null,
       "justify_items": null,
       "left": null,
       "margin": null,
       "max_height": null,
       "max_width": null,
       "min_height": null,
       "min_width": null,
       "object_fit": null,
       "object_position": null,
       "order": null,
       "overflow": null,
       "padding": null,
       "right": null,
       "top": null,
       "visibility": null,
       "width": null
      }
     },
     "8ab31a96e6df41ff8ef3ee2c826de823": {
      "model_module": "@jupyter-widgets/base",
      "model_module_version": "2.0.0",
      "model_name": "LayoutModel",
      "state": {
       "_model_module": "@jupyter-widgets/base",
       "_model_module_version": "2.0.0",
       "_model_name": "LayoutModel",
       "_view_count": null,
       "_view_module": "@jupyter-widgets/base",
       "_view_module_version": "2.0.0",
       "_view_name": "LayoutView",
       "align_content": null,
       "align_items": null,
       "align_self": null,
       "border_bottom": null,
       "border_left": null,
       "border_right": null,
       "border_top": null,
       "bottom": null,
       "display": null,
       "flex": null,
       "flex_flow": null,
       "grid_area": null,
       "grid_auto_columns": null,
       "grid_auto_flow": null,
       "grid_auto_rows": null,
       "grid_column": null,
       "grid_gap": null,
       "grid_row": null,
       "grid_template_areas": null,
       "grid_template_columns": null,
       "grid_template_rows": null,
       "height": null,
       "justify_content": null,
       "justify_items": null,
       "left": null,
       "margin": null,
       "max_height": null,
       "max_width": null,
       "min_height": null,
       "min_width": null,
       "object_fit": null,
       "object_position": null,
       "order": null,
       "overflow": null,
       "padding": null,
       "right": null,
       "top": null,
       "visibility": null,
       "width": null
      }
     },
     "8c9f730977e5416faa1ae42ce13571e5": {
      "model_module": "@jupyter-widgets/controls",
      "model_module_version": "2.0.0",
      "model_name": "HTMLStyleModel",
      "state": {
       "_model_module": "@jupyter-widgets/controls",
       "_model_module_version": "2.0.0",
       "_model_name": "HTMLStyleModel",
       "_view_count": null,
       "_view_module": "@jupyter-widgets/base",
       "_view_module_version": "2.0.0",
       "_view_name": "StyleView",
       "background": null,
       "description_width": "",
       "font_size": null,
       "text_color": null
      }
     },
     "92d1d8e7e29a4adcaf60454bb4c6bc25": {
      "model_module": "@jupyter-widgets/base",
      "model_module_version": "2.0.0",
      "model_name": "LayoutModel",
      "state": {
       "_model_module": "@jupyter-widgets/base",
       "_model_module_version": "2.0.0",
       "_model_name": "LayoutModel",
       "_view_count": null,
       "_view_module": "@jupyter-widgets/base",
       "_view_module_version": "2.0.0",
       "_view_name": "LayoutView",
       "align_content": null,
       "align_items": null,
       "align_self": null,
       "border_bottom": null,
       "border_left": null,
       "border_right": null,
       "border_top": null,
       "bottom": null,
       "display": null,
       "flex": null,
       "flex_flow": null,
       "grid_area": null,
       "grid_auto_columns": null,
       "grid_auto_flow": null,
       "grid_auto_rows": null,
       "grid_column": null,
       "grid_gap": null,
       "grid_row": null,
       "grid_template_areas": null,
       "grid_template_columns": null,
       "grid_template_rows": null,
       "height": null,
       "justify_content": null,
       "justify_items": null,
       "left": null,
       "margin": null,
       "max_height": null,
       "max_width": null,
       "min_height": null,
       "min_width": null,
       "object_fit": null,
       "object_position": null,
       "order": null,
       "overflow": null,
       "padding": null,
       "right": null,
       "top": null,
       "visibility": null,
       "width": null
      }
     },
     "9e1e2efc1fb24e838259c3c4daced874": {
      "model_module": "@jupyter-widgets/controls",
      "model_module_version": "2.0.0",
      "model_name": "HTMLStyleModel",
      "state": {
       "_model_module": "@jupyter-widgets/controls",
       "_model_module_version": "2.0.0",
       "_model_name": "HTMLStyleModel",
       "_view_count": null,
       "_view_module": "@jupyter-widgets/base",
       "_view_module_version": "2.0.0",
       "_view_name": "StyleView",
       "background": null,
       "description_width": "",
       "font_size": null,
       "text_color": null
      }
     },
     "b4fec90974b54962b75bf2cd4ed2d0ff": {
      "model_module": "@jupyter-widgets/controls",
      "model_module_version": "2.0.0",
      "model_name": "ProgressStyleModel",
      "state": {
       "_model_module": "@jupyter-widgets/controls",
       "_model_module_version": "2.0.0",
       "_model_name": "ProgressStyleModel",
       "_view_count": null,
       "_view_module": "@jupyter-widgets/base",
       "_view_module_version": "2.0.0",
       "_view_name": "StyleView",
       "bar_color": null,
       "description_width": ""
      }
     },
     "ba2a7f0d7754480cbe28a67acf81bfc0": {
      "model_module": "@jupyter-widgets/controls",
      "model_module_version": "2.0.0",
      "model_name": "HTMLStyleModel",
      "state": {
       "_model_module": "@jupyter-widgets/controls",
       "_model_module_version": "2.0.0",
       "_model_name": "HTMLStyleModel",
       "_view_count": null,
       "_view_module": "@jupyter-widgets/base",
       "_view_module_version": "2.0.0",
       "_view_name": "StyleView",
       "background": null,
       "description_width": "",
       "font_size": null,
       "text_color": null
      }
     },
     "bc24e7e0b2344c3abe873576fb9e68de": {
      "model_module": "@jupyter-widgets/base",
      "model_module_version": "2.0.0",
      "model_name": "LayoutModel",
      "state": {
       "_model_module": "@jupyter-widgets/base",
       "_model_module_version": "2.0.0",
       "_model_name": "LayoutModel",
       "_view_count": null,
       "_view_module": "@jupyter-widgets/base",
       "_view_module_version": "2.0.0",
       "_view_name": "LayoutView",
       "align_content": null,
       "align_items": null,
       "align_self": null,
       "border_bottom": null,
       "border_left": null,
       "border_right": null,
       "border_top": null,
       "bottom": null,
       "display": null,
       "flex": null,
       "flex_flow": null,
       "grid_area": null,
       "grid_auto_columns": null,
       "grid_auto_flow": null,
       "grid_auto_rows": null,
       "grid_column": null,
       "grid_gap": null,
       "grid_row": null,
       "grid_template_areas": null,
       "grid_template_columns": null,
       "grid_template_rows": null,
       "height": null,
       "justify_content": null,
       "justify_items": null,
       "left": null,
       "margin": null,
       "max_height": null,
       "max_width": null,
       "min_height": null,
       "min_width": null,
       "object_fit": null,
       "object_position": null,
       "order": null,
       "overflow": null,
       "padding": null,
       "right": null,
       "top": null,
       "visibility": null,
       "width": null
      }
     },
     "bc7cef374b78473da3f92d9068050d94": {
      "model_module": "@jupyter-widgets/controls",
      "model_module_version": "2.0.0",
      "model_name": "HTMLStyleModel",
      "state": {
       "_model_module": "@jupyter-widgets/controls",
       "_model_module_version": "2.0.0",
       "_model_name": "HTMLStyleModel",
       "_view_count": null,
       "_view_module": "@jupyter-widgets/base",
       "_view_module_version": "2.0.0",
       "_view_name": "StyleView",
       "background": null,
       "description_width": "",
       "font_size": null,
       "text_color": null
      }
     },
     "bc8902e9c30b45a685ae55c8eb240a64": {
      "model_module": "@jupyter-widgets/controls",
      "model_module_version": "2.0.0",
      "model_name": "ProgressStyleModel",
      "state": {
       "_model_module": "@jupyter-widgets/controls",
       "_model_module_version": "2.0.0",
       "_model_name": "ProgressStyleModel",
       "_view_count": null,
       "_view_module": "@jupyter-widgets/base",
       "_view_module_version": "2.0.0",
       "_view_name": "StyleView",
       "bar_color": null,
       "description_width": ""
      }
     },
     "ca45fd093d0943bb9ac64feb63a2bbb3": {
      "model_module": "@jupyter-widgets/controls",
      "model_module_version": "2.0.0",
      "model_name": "FloatProgressModel",
      "state": {
       "_dom_classes": [],
       "_model_module": "@jupyter-widgets/controls",
       "_model_module_version": "2.0.0",
       "_model_name": "FloatProgressModel",
       "_view_count": null,
       "_view_module": "@jupyter-widgets/controls",
       "_view_module_version": "2.0.0",
       "_view_name": "ProgressView",
       "bar_style": "success",
       "description": "",
       "description_allow_html": false,
       "layout": "IPY_MODEL_4250b17120524065964000daa0cbd9bc",
       "max": 4241003,
       "min": 0,
       "orientation": "horizontal",
       "style": "IPY_MODEL_b4fec90974b54962b75bf2cd4ed2d0ff",
       "tabbable": null,
       "tooltip": null,
       "value": 4241003
      }
     },
     "d2f00d3cb5e34f069f645a8991e53439": {
      "model_module": "@jupyter-widgets/controls",
      "model_module_version": "2.0.0",
      "model_name": "HTMLModel",
      "state": {
       "_dom_classes": [],
       "_model_module": "@jupyter-widgets/controls",
       "_model_module_version": "2.0.0",
       "_model_name": "HTMLModel",
       "_view_count": null,
       "_view_module": "@jupyter-widgets/controls",
       "_view_module_version": "2.0.0",
       "_view_name": "HTMLView",
       "description": "",
       "description_allow_html": false,
       "layout": "IPY_MODEL_06515dfe9f524b0d8983f575929559b4",
       "placeholder": "​",
       "style": "IPY_MODEL_85f7d5ff4fa74bc1af35fbe2979a57b5",
       "tabbable": null,
       "tooltip": null,
       "value": "tokenizer_config.json: 100%"
      }
     },
     "d37f725d2ecb44f598a7c48b61360e5f": {
      "model_module": "@jupyter-widgets/controls",
      "model_module_version": "2.0.0",
      "model_name": "HBoxModel",
      "state": {
       "_dom_classes": [],
       "_model_module": "@jupyter-widgets/controls",
       "_model_module_version": "2.0.0",
       "_model_name": "HBoxModel",
       "_view_count": null,
       "_view_module": "@jupyter-widgets/controls",
       "_view_module_version": "2.0.0",
       "_view_name": "HBoxView",
       "box_style": "",
       "children": [
        "IPY_MODEL_d2f00d3cb5e34f069f645a8991e53439",
        "IPY_MODEL_4202a9a401f34509bc6a7d9f80a42535",
        "IPY_MODEL_221f5dc18160496f9011bd28858a988c"
       ],
       "layout": "IPY_MODEL_92d1d8e7e29a4adcaf60454bb4c6bc25",
       "tabbable": null,
       "tooltip": null
      }
     },
     "dd89770a060e496daabea1cf68cef79a": {
      "model_module": "@jupyter-widgets/controls",
      "model_module_version": "2.0.0",
      "model_name": "HTMLModel",
      "state": {
       "_dom_classes": [],
       "_model_module": "@jupyter-widgets/controls",
       "_model_module_version": "2.0.0",
       "_model_name": "HTMLModel",
       "_view_count": null,
       "_view_module": "@jupyter-widgets/controls",
       "_view_module_version": "2.0.0",
       "_view_name": "HTMLView",
       "description": "",
       "description_allow_html": false,
       "layout": "IPY_MODEL_8ab31a96e6df41ff8ef3ee2c826de823",
       "placeholder": "​",
       "style": "IPY_MODEL_755306c45e9942ac82a00241a8dda0e5",
       "tabbable": null,
       "tooltip": null,
       "value": "special_tokens_map.json: 100%"
      }
     },
     "dfb47d240f8040cda3a49b3a6352b557": {
      "model_module": "@jupyter-widgets/base",
      "model_module_version": "2.0.0",
      "model_name": "LayoutModel",
      "state": {
       "_model_module": "@jupyter-widgets/base",
       "_model_module_version": "2.0.0",
       "_model_name": "LayoutModel",
       "_view_count": null,
       "_view_module": "@jupyter-widgets/base",
       "_view_module_version": "2.0.0",
       "_view_name": "LayoutView",
       "align_content": null,
       "align_items": null,
       "align_self": null,
       "border_bottom": null,
       "border_left": null,
       "border_right": null,
       "border_top": null,
       "bottom": null,
       "display": null,
       "flex": null,
       "flex_flow": null,
       "grid_area": null,
       "grid_auto_columns": null,
       "grid_auto_flow": null,
       "grid_auto_rows": null,
       "grid_column": null,
       "grid_gap": null,
       "grid_row": null,
       "grid_template_areas": null,
       "grid_template_columns": null,
       "grid_template_rows": null,
       "height": null,
       "justify_content": null,
       "justify_items": null,
       "left": null,
       "margin": null,
       "max_height": null,
       "max_width": null,
       "min_height": null,
       "min_width": null,
       "object_fit": null,
       "object_position": null,
       "order": null,
       "overflow": null,
       "padding": null,
       "right": null,
       "top": null,
       "visibility": null,
       "width": null
      }
     },
     "e44e0795f3014371ae312bfeb217a265": {
      "model_module": "@jupyter-widgets/base",
      "model_module_version": "2.0.0",
      "model_name": "LayoutModel",
      "state": {
       "_model_module": "@jupyter-widgets/base",
       "_model_module_version": "2.0.0",
       "_model_name": "LayoutModel",
       "_view_count": null,
       "_view_module": "@jupyter-widgets/base",
       "_view_module_version": "2.0.0",
       "_view_name": "LayoutView",
       "align_content": null,
       "align_items": null,
       "align_self": null,
       "border_bottom": null,
       "border_left": null,
       "border_right": null,
       "border_top": null,
       "bottom": null,
       "display": null,
       "flex": null,
       "flex_flow": null,
       "grid_area": null,
       "grid_auto_columns": null,
       "grid_auto_flow": null,
       "grid_auto_rows": null,
       "grid_column": null,
       "grid_gap": null,
       "grid_row": null,
       "grid_template_areas": null,
       "grid_template_columns": null,
       "grid_template_rows": null,
       "height": null,
       "justify_content": null,
       "justify_items": null,
       "left": null,
       "margin": null,
       "max_height": null,
       "max_width": null,
       "min_height": null,
       "min_width": null,
       "object_fit": null,
       "object_position": null,
       "order": null,
       "overflow": null,
       "padding": null,
       "right": null,
       "top": null,
       "visibility": null,
       "width": null
      }
     },
     "eccd87c4553e453aa9d385dee02005ef": {
      "model_module": "@jupyter-widgets/controls",
      "model_module_version": "2.0.0",
      "model_name": "HTMLModel",
      "state": {
       "_dom_classes": [],
       "_model_module": "@jupyter-widgets/controls",
       "_model_module_version": "2.0.0",
       "_model_name": "HTMLModel",
       "_view_count": null,
       "_view_module": "@jupyter-widgets/controls",
       "_view_module_version": "2.0.0",
       "_view_name": "HTMLView",
       "description": "",
       "description_allow_html": false,
       "layout": "IPY_MODEL_bc24e7e0b2344c3abe873576fb9e68de",
       "placeholder": "​",
       "style": "IPY_MODEL_9e1e2efc1fb24e838259c3c4daced874",
       "tabbable": null,
       "tooltip": null,
       "value": " 4.24M/4.24M [00:00&lt;00:00, 41.5MB/s]"
      }
     },
     "ed401ebe0bc041f3b2c13ef0e8cab301": {
      "model_module": "@jupyter-widgets/controls",
      "model_module_version": "2.0.0",
      "model_name": "HTMLStyleModel",
      "state": {
       "_model_module": "@jupyter-widgets/controls",
       "_model_module_version": "2.0.0",
       "_model_name": "HTMLStyleModel",
       "_view_count": null,
       "_view_module": "@jupyter-widgets/base",
       "_view_module_version": "2.0.0",
       "_view_name": "StyleView",
       "background": null,
       "description_width": "",
       "font_size": null,
       "text_color": null
      }
     },
     "f4b73c96cc624ff7b6854b6d995e97a4": {
      "model_module": "@jupyter-widgets/base",
      "model_module_version": "2.0.0",
      "model_name": "LayoutModel",
      "state": {
       "_model_module": "@jupyter-widgets/base",
       "_model_module_version": "2.0.0",
       "_model_name": "LayoutModel",
       "_view_count": null,
       "_view_module": "@jupyter-widgets/base",
       "_view_module_version": "2.0.0",
       "_view_name": "LayoutView",
       "align_content": null,
       "align_items": null,
       "align_self": null,
       "border_bottom": null,
       "border_left": null,
       "border_right": null,
       "border_top": null,
       "bottom": null,
       "display": null,
       "flex": null,
       "flex_flow": null,
       "grid_area": null,
       "grid_auto_columns": null,
       "grid_auto_flow": null,
       "grid_auto_rows": null,
       "grid_column": null,
       "grid_gap": null,
       "grid_row": null,
       "grid_template_areas": null,
       "grid_template_columns": null,
       "grid_template_rows": null,
       "height": null,
       "justify_content": null,
       "justify_items": null,
       "left": null,
       "margin": null,
       "max_height": null,
       "max_width": null,
       "min_height": null,
       "min_width": null,
       "object_fit": null,
       "object_position": null,
       "order": null,
       "overflow": null,
       "padding": null,
       "right": null,
       "top": null,
       "visibility": null,
       "width": null
      }
     }
    },
    "version_major": 2,
    "version_minor": 0
   }
  }
 },
 "nbformat": 4,
 "nbformat_minor": 5
}
